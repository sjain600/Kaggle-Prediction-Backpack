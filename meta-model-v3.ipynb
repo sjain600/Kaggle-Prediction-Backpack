{
 "cells": [
  {
   "cell_type": "code",
   "execution_count": 1,
   "id": "d8589e1c",
   "metadata": {
    "execution": {
     "iopub.execute_input": "2025-04-16T04:38:17.890294Z",
     "iopub.status.busy": "2025-04-16T04:38:17.889971Z",
     "iopub.status.idle": "2025-04-16T04:38:25.347703Z",
     "shell.execute_reply": "2025-04-16T04:38:25.346511Z"
    },
    "papermill": {
     "duration": 7.46488,
     "end_time": "2025-04-16T04:38:25.349287",
     "exception": false,
     "start_time": "2025-04-16T04:38:17.884407",
     "status": "completed"
    },
    "tags": []
   },
   "outputs": [
    {
     "name": "stdout",
     "output_type": "stream",
     "text": [
      "/kaggle/input/playground-series-s5e2/sample_submission.csv\n",
      "/kaggle/input/playground-series-s5e2/train.csv\n",
      "/kaggle/input/playground-series-s5e2/test.csv\n",
      "/kaggle/input/playground-series-s5e2/training_extra.csv\n"
     ]
    }
   ],
   "source": [
    "%load_ext cudf.pandas\n",
    "import numpy as np # linear algebra\n",
    "import pandas as pd # data processing, CSV file I/O (e.g. pd.read_csv)\n",
    "import matplotlib.pyplot as plt\n",
    "\n",
    "# Input data files are available in the read-only \"../input/\" directory\n",
    "# For example, running this (by clicking run or pressing Shift+Enter) will list all files under the input directory\n",
    "\n",
    "import os\n",
    "for dirname, _, filenames in os.walk('/kaggle/input'):\n",
    "    for filename in filenames:\n",
    "        print(os.path.join(dirname, filename))\n",
    "\n",
    "import warnings\n",
    "warnings.filterwarnings(\"ignore\")\n",
    "\n",
    "# You can write up to 20GB to the current directory (/kaggle/working/) that gets preserved as output when you create a version using \"Save & Run All\" \n",
    "# You can also write temporary files to /kaggle/temp/, but they won't be saved outside of the current session\n"
   ]
  },
  {
   "cell_type": "code",
   "execution_count": 2,
   "id": "6c318165",
   "metadata": {
    "execution": {
     "iopub.execute_input": "2025-04-16T04:38:25.359548Z",
     "iopub.status.busy": "2025-04-16T04:38:25.358963Z",
     "iopub.status.idle": "2025-04-16T04:38:28.472257Z",
     "shell.execute_reply": "2025-04-16T04:38:28.471542Z"
    },
    "papermill": {
     "duration": 3.119678,
     "end_time": "2025-04-16T04:38:28.473827",
     "exception": false,
     "start_time": "2025-04-16T04:38:25.354149",
     "status": "completed"
    },
    "tags": []
   },
   "outputs": [],
   "source": [
    "train = pd.read_csv('/kaggle/input/playground-series-s5e2/train.csv')\n",
    "train_extra = pd.read_csv('/kaggle/input/playground-series-s5e2/training_extra.csv')\n",
    "test = pd.read_csv('/kaggle/input/playground-series-s5e2/test.csv')"
   ]
  },
  {
   "cell_type": "code",
   "execution_count": 3,
   "id": "c7e8aa03",
   "metadata": {
    "execution": {
     "iopub.execute_input": "2025-04-16T04:38:28.483431Z",
     "iopub.status.busy": "2025-04-16T04:38:28.483197Z",
     "iopub.status.idle": "2025-04-16T04:38:28.538565Z",
     "shell.execute_reply": "2025-04-16T04:38:28.537927Z"
    },
    "papermill": {
     "duration": 0.061495,
     "end_time": "2025-04-16T04:38:28.539863",
     "exception": false,
     "start_time": "2025-04-16T04:38:28.478368",
     "status": "completed"
    },
    "tags": []
   },
   "outputs": [],
   "source": [
    "train = pd.concat([train, train_extra], axis=0, ignore_index=True)"
   ]
  },
  {
   "cell_type": "markdown",
   "id": "bc445325",
   "metadata": {
    "papermill": {
     "duration": 0.004068,
     "end_time": "2025-04-16T04:38:28.548192",
     "exception": false,
     "start_time": "2025-04-16T04:38:28.544124",
     "status": "completed"
    },
    "tags": []
   },
   "source": [
    "## Data Understanding"
   ]
  },
  {
   "cell_type": "code",
   "execution_count": 4,
   "id": "8a21f4b6",
   "metadata": {
    "execution": {
     "iopub.execute_input": "2025-04-16T04:38:28.557421Z",
     "iopub.status.busy": "2025-04-16T04:38:28.557205Z",
     "iopub.status.idle": "2025-04-16T04:38:28.623537Z",
     "shell.execute_reply": "2025-04-16T04:38:28.622585Z"
    },
    "papermill": {
     "duration": 0.072326,
     "end_time": "2025-04-16T04:38:28.624856",
     "exception": false,
     "start_time": "2025-04-16T04:38:28.552530",
     "status": "completed"
    },
    "tags": []
   },
   "outputs": [
    {
     "name": "stdout",
     "output_type": "stream",
     "text": [
      "<class 'cudf.core.dataframe.DataFrame'>\n",
      "RangeIndex: 3994318 entries, 0 to 3994317\n",
      "Data columns (total 11 columns):\n",
      " #   Column                Dtype\n",
      "---  ------                -----\n",
      " 0   id                    int64\n",
      " 1   Brand                 object\n",
      " 2   Material              object\n",
      " 3   Size                  object\n",
      " 4   Compartments          float64\n",
      " 5   Laptop Compartment    object\n",
      " 6   Waterproof            object\n",
      " 7   Style                 object\n",
      " 8   Color                 object\n",
      " 9   Weight Capacity (kg)  float64\n",
      " 10  Price                 float64\n",
      "dtypes: float64(3), int64(1), object(7)\n",
      "memory usage: 362.7+ MB\n"
     ]
    }
   ],
   "source": [
    "train.info()"
   ]
  },
  {
   "cell_type": "code",
   "execution_count": 5,
   "id": "cbbc1081",
   "metadata": {
    "execution": {
     "iopub.execute_input": "2025-04-16T04:38:28.634267Z",
     "iopub.status.busy": "2025-04-16T04:38:28.634003Z",
     "iopub.status.idle": "2025-04-16T04:38:29.772111Z",
     "shell.execute_reply": "2025-04-16T04:38:29.771191Z"
    },
    "papermill": {
     "duration": 1.14438,
     "end_time": "2025-04-16T04:38:29.773495",
     "exception": false,
     "start_time": "2025-04-16T04:38:28.629115",
     "status": "completed"
    },
    "tags": []
   },
   "outputs": [
    {
     "data": {
      "text/html": [
       "<div>\n",
       "<style scoped>\n",
       "    .dataframe tbody tr th:only-of-type {\n",
       "        vertical-align: middle;\n",
       "    }\n",
       "\n",
       "    .dataframe tbody tr th {\n",
       "        vertical-align: top;\n",
       "    }\n",
       "\n",
       "    .dataframe thead th {\n",
       "        text-align: right;\n",
       "    }\n",
       "</style>\n",
       "<table border=\"1\" class=\"dataframe\">\n",
       "  <thead>\n",
       "    <tr style=\"text-align: right;\">\n",
       "      <th></th>\n",
       "      <th>id</th>\n",
       "      <th>Compartments</th>\n",
       "      <th>Weight Capacity (kg)</th>\n",
       "      <th>Price</th>\n",
       "    </tr>\n",
       "  </thead>\n",
       "  <tbody>\n",
       "    <tr>\n",
       "      <th>count</th>\n",
       "      <td>3.994318e+06</td>\n",
       "      <td>3.994318e+06</td>\n",
       "      <td>3.992510e+06</td>\n",
       "      <td>3.994318e+06</td>\n",
       "    </tr>\n",
       "    <tr>\n",
       "      <th>mean</th>\n",
       "      <td>2.182137e+06</td>\n",
       "      <td>5.434740e+00</td>\n",
       "      <td>1.801042e+01</td>\n",
       "      <td>8.136217e+01</td>\n",
       "    </tr>\n",
       "    <tr>\n",
       "      <th>std</th>\n",
       "      <td>1.178058e+06</td>\n",
       "      <td>2.893043e+00</td>\n",
       "      <td>6.973969e+00</td>\n",
       "      <td>3.893868e+01</td>\n",
       "    </tr>\n",
       "    <tr>\n",
       "      <th>min</th>\n",
       "      <td>0.000000e+00</td>\n",
       "      <td>1.000000e+00</td>\n",
       "      <td>5.000000e+00</td>\n",
       "      <td>1.500000e+01</td>\n",
       "    </tr>\n",
       "    <tr>\n",
       "      <th>25%</th>\n",
       "      <td>1.198579e+06</td>\n",
       "      <td>3.000000e+00</td>\n",
       "      <td>1.206896e+01</td>\n",
       "      <td>4.747002e+01</td>\n",
       "    </tr>\n",
       "    <tr>\n",
       "      <th>50%</th>\n",
       "      <td>2.197158e+06</td>\n",
       "      <td>5.000000e+00</td>\n",
       "      <td>1.805436e+01</td>\n",
       "      <td>8.098495e+01</td>\n",
       "    </tr>\n",
       "    <tr>\n",
       "      <th>75%</th>\n",
       "      <td>3.195738e+06</td>\n",
       "      <td>8.000000e+00</td>\n",
       "      <td>2.398750e+01</td>\n",
       "      <td>1.148550e+02</td>\n",
       "    </tr>\n",
       "    <tr>\n",
       "      <th>max</th>\n",
       "      <td>4.194317e+06</td>\n",
       "      <td>1.000000e+01</td>\n",
       "      <td>3.000000e+01</td>\n",
       "      <td>1.500000e+02</td>\n",
       "    </tr>\n",
       "  </tbody>\n",
       "</table>\n",
       "</div>"
      ],
      "text/plain": [
       "                 id  Compartments  Weight Capacity (kg)         Price\n",
       "count  3.994318e+06  3.994318e+06          3.992510e+06  3.994318e+06\n",
       "mean   2.182137e+06  5.434740e+00          1.801042e+01  8.136217e+01\n",
       "std    1.178058e+06  2.893043e+00          6.973969e+00  3.893868e+01\n",
       "min    0.000000e+00  1.000000e+00          5.000000e+00  1.500000e+01\n",
       "25%    1.198579e+06  3.000000e+00          1.206896e+01  4.747002e+01\n",
       "50%    2.197158e+06  5.000000e+00          1.805436e+01  8.098495e+01\n",
       "75%    3.195738e+06  8.000000e+00          2.398750e+01  1.148550e+02\n",
       "max    4.194317e+06  1.000000e+01          3.000000e+01  1.500000e+02"
      ]
     },
     "execution_count": 5,
     "metadata": {},
     "output_type": "execute_result"
    }
   ],
   "source": [
    "train.describe()"
   ]
  },
  {
   "cell_type": "code",
   "execution_count": 6,
   "id": "2efcc47b",
   "metadata": {
    "execution": {
     "iopub.execute_input": "2025-04-16T04:38:29.783556Z",
     "iopub.status.busy": "2025-04-16T04:38:29.783341Z",
     "iopub.status.idle": "2025-04-16T04:38:29.842561Z",
     "shell.execute_reply": "2025-04-16T04:38:29.841452Z"
    },
    "papermill": {
     "duration": 0.065571,
     "end_time": "2025-04-16T04:38:29.843961",
     "exception": false,
     "start_time": "2025-04-16T04:38:29.778390",
     "status": "completed"
    },
    "tags": []
   },
   "outputs": [
    {
     "name": "stdout",
     "output_type": "stream",
     "text": [
      "Any missing for train df\n",
      "id                           0\n",
      "Brand                   126758\n",
      "Material                110962\n",
      "Size                     87785\n",
      "Compartments                 0\n",
      "Laptop Compartment       98533\n",
      "Waterproof               94324\n",
      "Style                   104180\n",
      "Color                   133617\n",
      "Weight Capacity (kg)      1808\n",
      "Price                        0\n",
      "dtype: int64\n",
      "\n",
      "Any missing for test df\n",
      "id                         0\n",
      "Brand                   6227\n",
      "Material                5613\n",
      "Size                    4381\n",
      "Compartments               0\n",
      "Laptop Compartment      4962\n",
      "Waterproof              4811\n",
      "Style                   5153\n",
      "Color                   6785\n",
      "Weight Capacity (kg)      77\n",
      "dtype: int64\n"
     ]
    }
   ],
   "source": [
    "print('Any missing for train df')\n",
    "print(train.isnull().sum())\n",
    "\n",
    "print(f'\\nAny missing for test df')\n",
    "print(test.isnull().sum())"
   ]
  },
  {
   "cell_type": "code",
   "execution_count": 7,
   "id": "0ab67f0e",
   "metadata": {
    "execution": {
     "iopub.execute_input": "2025-04-16T04:38:29.853857Z",
     "iopub.status.busy": "2025-04-16T04:38:29.853621Z",
     "iopub.status.idle": "2025-04-16T04:38:30.316436Z",
     "shell.execute_reply": "2025-04-16T04:38:30.315569Z"
    },
    "papermill": {
     "duration": 0.469264,
     "end_time": "2025-04-16T04:38:30.317815",
     "exception": false,
     "start_time": "2025-04-16T04:38:29.848551",
     "status": "completed"
    },
    "tags": []
   },
   "outputs": [
    {
     "data": {
      "text/html": [
       "<div>\n",
       "<style scoped>\n",
       "    .dataframe tbody tr th:only-of-type {\n",
       "        vertical-align: middle;\n",
       "    }\n",
       "\n",
       "    .dataframe tbody tr th {\n",
       "        vertical-align: top;\n",
       "    }\n",
       "\n",
       "    .dataframe thead th {\n",
       "        text-align: right;\n",
       "    }\n",
       "</style>\n",
       "<table border=\"1\" class=\"dataframe\">\n",
       "  <thead>\n",
       "    <tr style=\"text-align: right;\">\n",
       "      <th></th>\n",
       "      <th>id</th>\n",
       "      <th>Brand</th>\n",
       "      <th>Material</th>\n",
       "      <th>Size</th>\n",
       "      <th>Compartments</th>\n",
       "      <th>Laptop Compartment</th>\n",
       "      <th>Waterproof</th>\n",
       "      <th>Style</th>\n",
       "      <th>Color</th>\n",
       "      <th>Weight Capacity (kg)</th>\n",
       "      <th>Price</th>\n",
       "    </tr>\n",
       "  </thead>\n",
       "  <tbody>\n",
       "    <tr>\n",
       "      <th>1286200</th>\n",
       "      <td>1486200</td>\n",
       "      <td>Adidas</td>\n",
       "      <td>Polyester</td>\n",
       "      <td>Small</td>\n",
       "      <td>5.0</td>\n",
       "      <td>Yes</td>\n",
       "      <td>No</td>\n",
       "      <td>Backpack</td>\n",
       "      <td>Blue</td>\n",
       "      <td>24.901977</td>\n",
       "      <td>112.98083</td>\n",
       "    </tr>\n",
       "    <tr>\n",
       "      <th>3475770</th>\n",
       "      <td>3675770</td>\n",
       "      <td>Under Armour</td>\n",
       "      <td>Polyester</td>\n",
       "      <td>Small</td>\n",
       "      <td>2.0</td>\n",
       "      <td>No</td>\n",
       "      <td>No</td>\n",
       "      <td>Messenger</td>\n",
       "      <td>Green</td>\n",
       "      <td>17.980935</td>\n",
       "      <td>80.56275</td>\n",
       "    </tr>\n",
       "    <tr>\n",
       "      <th>1731631</th>\n",
       "      <td>1931631</td>\n",
       "      <td>Puma</td>\n",
       "      <td>Canvas</td>\n",
       "      <td>Medium</td>\n",
       "      <td>9.0</td>\n",
       "      <td>Yes</td>\n",
       "      <td>No</td>\n",
       "      <td>Tote</td>\n",
       "      <td>Gray</td>\n",
       "      <td>7.368313</td>\n",
       "      <td>54.43757</td>\n",
       "    </tr>\n",
       "    <tr>\n",
       "      <th>865434</th>\n",
       "      <td>1065434</td>\n",
       "      <td>Adidas</td>\n",
       "      <td>Leather</td>\n",
       "      <td>Large</td>\n",
       "      <td>3.0</td>\n",
       "      <td>Yes</td>\n",
       "      <td>No</td>\n",
       "      <td>Backpack</td>\n",
       "      <td>Blue</td>\n",
       "      <td>14.549599</td>\n",
       "      <td>45.70789</td>\n",
       "    </tr>\n",
       "    <tr>\n",
       "      <th>591748</th>\n",
       "      <td>791748</td>\n",
       "      <td>Puma</td>\n",
       "      <td>Leather</td>\n",
       "      <td>Large</td>\n",
       "      <td>6.0</td>\n",
       "      <td>No</td>\n",
       "      <td>No</td>\n",
       "      <td>Backpack</td>\n",
       "      <td>Blue</td>\n",
       "      <td>7.743302</td>\n",
       "      <td>77.05273</td>\n",
       "    </tr>\n",
       "    <tr>\n",
       "      <th>1650129</th>\n",
       "      <td>1850129</td>\n",
       "      <td>Puma</td>\n",
       "      <td>Leather</td>\n",
       "      <td>Large</td>\n",
       "      <td>5.0</td>\n",
       "      <td>Yes</td>\n",
       "      <td>No</td>\n",
       "      <td>Tote</td>\n",
       "      <td>Gray</td>\n",
       "      <td>6.764987</td>\n",
       "      <td>55.89147</td>\n",
       "    </tr>\n",
       "    <tr>\n",
       "      <th>1032919</th>\n",
       "      <td>1232919</td>\n",
       "      <td>Nike</td>\n",
       "      <td>Polyester</td>\n",
       "      <td>Small</td>\n",
       "      <td>9.0</td>\n",
       "      <td>No</td>\n",
       "      <td>Yes</td>\n",
       "      <td>Messenger</td>\n",
       "      <td>Gray</td>\n",
       "      <td>27.869809</td>\n",
       "      <td>137.19788</td>\n",
       "    </tr>\n",
       "    <tr>\n",
       "      <th>466201</th>\n",
       "      <td>666201</td>\n",
       "      <td>Adidas</td>\n",
       "      <td>Leather</td>\n",
       "      <td>Large</td>\n",
       "      <td>5.0</td>\n",
       "      <td>No</td>\n",
       "      <td>No</td>\n",
       "      <td>Messenger</td>\n",
       "      <td>Red</td>\n",
       "      <td>12.141157</td>\n",
       "      <td>101.46351</td>\n",
       "    </tr>\n",
       "    <tr>\n",
       "      <th>228503</th>\n",
       "      <td>228503</td>\n",
       "      <td>Adidas</td>\n",
       "      <td>Nylon</td>\n",
       "      <td>Medium</td>\n",
       "      <td>9.0</td>\n",
       "      <td>No</td>\n",
       "      <td>No</td>\n",
       "      <td>Messenger</td>\n",
       "      <td>Green</td>\n",
       "      <td>7.035068</td>\n",
       "      <td>108.26522</td>\n",
       "    </tr>\n",
       "    <tr>\n",
       "      <th>2996146</th>\n",
       "      <td>3196146</td>\n",
       "      <td>Puma</td>\n",
       "      <td>Leather</td>\n",
       "      <td>Medium</td>\n",
       "      <td>7.0</td>\n",
       "      <td>No</td>\n",
       "      <td>Yes</td>\n",
       "      <td>Messenger</td>\n",
       "      <td>Pink</td>\n",
       "      <td>12.013902</td>\n",
       "      <td>116.77457</td>\n",
       "    </tr>\n",
       "  </tbody>\n",
       "</table>\n",
       "</div>"
      ],
      "text/plain": [
       "              id         Brand   Material    Size  Compartments  \\\n",
       "1286200  1486200        Adidas  Polyester   Small           5.0   \n",
       "3475770  3675770  Under Armour  Polyester   Small           2.0   \n",
       "1731631  1931631          Puma     Canvas  Medium           9.0   \n",
       "865434   1065434        Adidas    Leather   Large           3.0   \n",
       "591748    791748          Puma    Leather   Large           6.0   \n",
       "1650129  1850129          Puma    Leather   Large           5.0   \n",
       "1032919  1232919          Nike  Polyester   Small           9.0   \n",
       "466201    666201        Adidas    Leather   Large           5.0   \n",
       "228503    228503        Adidas      Nylon  Medium           9.0   \n",
       "2996146  3196146          Puma    Leather  Medium           7.0   \n",
       "\n",
       "        Laptop Compartment Waterproof      Style  Color  Weight Capacity (kg)  \\\n",
       "1286200                Yes         No   Backpack   Blue             24.901977   \n",
       "3475770                 No         No  Messenger  Green             17.980935   \n",
       "1731631                Yes         No       Tote   Gray              7.368313   \n",
       "865434                 Yes         No   Backpack   Blue             14.549599   \n",
       "591748                  No         No   Backpack   Blue              7.743302   \n",
       "1650129                Yes         No       Tote   Gray              6.764987   \n",
       "1032919                 No        Yes  Messenger   Gray             27.869809   \n",
       "466201                  No         No  Messenger    Red             12.141157   \n",
       "228503                  No         No  Messenger  Green              7.035068   \n",
       "2996146                 No        Yes  Messenger   Pink             12.013902   \n",
       "\n",
       "             Price  \n",
       "1286200  112.98083  \n",
       "3475770   80.56275  \n",
       "1731631   54.43757  \n",
       "865434    45.70789  \n",
       "591748    77.05273  \n",
       "1650129   55.89147  \n",
       "1032919  137.19788  \n",
       "466201   101.46351  \n",
       "228503   108.26522  \n",
       "2996146  116.77457  "
      ]
     },
     "execution_count": 7,
     "metadata": {},
     "output_type": "execute_result"
    }
   ],
   "source": [
    "train.sample(10)"
   ]
  },
  {
   "cell_type": "markdown",
   "id": "6fd1f057",
   "metadata": {
    "papermill": {
     "duration": 0.004491,
     "end_time": "2025-04-16T04:38:30.327488",
     "exception": false,
     "start_time": "2025-04-16T04:38:30.322997",
     "status": "completed"
    },
    "tags": []
   },
   "source": [
    "## Data Preparation"
   ]
  },
  {
   "cell_type": "code",
   "execution_count": 8,
   "id": "2e17625c",
   "metadata": {
    "execution": {
     "iopub.execute_input": "2025-04-16T04:38:30.337657Z",
     "iopub.status.busy": "2025-04-16T04:38:30.337400Z",
     "iopub.status.idle": "2025-04-16T04:38:43.947876Z",
     "shell.execute_reply": "2025-04-16T04:38:43.946797Z"
    },
    "papermill": {
     "duration": 13.617331,
     "end_time": "2025-04-16T04:38:43.949578",
     "exception": false,
     "start_time": "2025-04-16T04:38:30.332247",
     "status": "completed"
    },
    "tags": []
   },
   "outputs": [],
   "source": [
    "from sklearn.impute import SimpleImputer\n",
    "\n",
    "numerical_cols = test.select_dtypes(include=['float64']).columns\n",
    "impute = SimpleImputer(strategy='median')\n",
    "train[numerical_cols] = impute.fit_transform(train[numerical_cols])\n",
    "test[numerical_cols] = impute.fit_transform(test[numerical_cols])"
   ]
  },
  {
   "cell_type": "code",
   "execution_count": 9,
   "id": "f92c3c52",
   "metadata": {
    "execution": {
     "iopub.execute_input": "2025-04-16T04:38:43.960346Z",
     "iopub.status.busy": "2025-04-16T04:38:43.959911Z",
     "iopub.status.idle": "2025-04-16T04:39:02.248049Z",
     "shell.execute_reply": "2025-04-16T04:39:02.247387Z"
    },
    "papermill": {
     "duration": 18.294892,
     "end_time": "2025-04-16T04:39:02.249518",
     "exception": false,
     "start_time": "2025-04-16T04:38:43.954626",
     "status": "completed"
    },
    "tags": []
   },
   "outputs": [],
   "source": [
    "cat_cols = train.select_dtypes(include=['object']).columns\n",
    "train[cat_cols] = train[cat_cols].fillna('unknown')\n",
    "test[cat_cols] = test[cat_cols].fillna('unknown')"
   ]
  },
  {
   "cell_type": "markdown",
   "id": "80384cde",
   "metadata": {
    "papermill": {
     "duration": 0.004538,
     "end_time": "2025-04-16T04:39:02.259319",
     "exception": false,
     "start_time": "2025-04-16T04:39:02.254781",
     "status": "completed"
    },
    "tags": []
   },
   "source": [
    "## Feature Engineering"
   ]
  },
  {
   "cell_type": "code",
   "execution_count": 10,
   "id": "010498a9",
   "metadata": {
    "execution": {
     "iopub.execute_input": "2025-04-16T04:39:02.269251Z",
     "iopub.status.busy": "2025-04-16T04:39:02.268985Z",
     "iopub.status.idle": "2025-04-16T04:39:02.881527Z",
     "shell.execute_reply": "2025-04-16T04:39:02.880657Z"
    },
    "papermill": {
     "duration": 0.619171,
     "end_time": "2025-04-16T04:39:02.883068",
     "exception": false,
     "start_time": "2025-04-16T04:39:02.263897",
     "status": "completed"
    },
    "tags": []
   },
   "outputs": [],
   "source": [
    "for i, c in enumerate(cat_cols):\n",
    "    combine = pd.concat([train[c], test[c]], axis=0)\n",
    "    combine, _ = pd.factorize(combine)\n",
    "    train[c] = combine[:len(train)].astype('float32')\n",
    "    test[c] = combine[len(train):].astype('float32')\n",
    "    n = f'{c}_wc'\n",
    "    train[n] = (train[c] * 100 + train['Weight Capacity (kg)']).astype('float32')\n",
    "    test[n] = (test[c] * 100 + test['Weight Capacity (kg)']).astype('float32')"
   ]
  },
  {
   "cell_type": "markdown",
   "id": "0d1d7992",
   "metadata": {
    "papermill": {
     "duration": 0.004551,
     "end_time": "2025-04-16T04:39:02.892730",
     "exception": false,
     "start_time": "2025-04-16T04:39:02.888179",
     "status": "completed"
    },
    "tags": []
   },
   "source": [
    "# Checking to make sure that the data type for newly created features are float32"
   ]
  },
  {
   "cell_type": "code",
   "execution_count": 11,
   "id": "ba2035d5",
   "metadata": {
    "execution": {
     "iopub.execute_input": "2025-04-16T04:39:02.902628Z",
     "iopub.status.busy": "2025-04-16T04:39:02.902391Z",
     "iopub.status.idle": "2025-04-16T04:39:02.914722Z",
     "shell.execute_reply": "2025-04-16T04:39:02.913980Z"
    },
    "papermill": {
     "duration": 0.018621,
     "end_time": "2025-04-16T04:39:02.915943",
     "exception": false,
     "start_time": "2025-04-16T04:39:02.897322",
     "status": "completed"
    },
    "tags": []
   },
   "outputs": [
    {
     "name": "stdout",
     "output_type": "stream",
     "text": [
      "<class 'cudf.core.dataframe.DataFrame'>\n",
      "RangeIndex: 3994318 entries, 0 to 3994317\n",
      "Data columns (total 18 columns):\n",
      " #   Column                 Dtype\n",
      "---  ------                 -----\n",
      " 0   id                     int64\n",
      " 1   Brand                  float32\n",
      " 2   Material               float32\n",
      " 3   Size                   float32\n",
      " 4   Compartments           float64\n",
      " 5   Laptop Compartment     float32\n",
      " 6   Waterproof             float32\n",
      " 7   Style                  float32\n",
      " 8   Color                  float32\n",
      " 9   Weight Capacity (kg)   float64\n",
      " 10  Price                  float64\n",
      " 11  Brand_wc               float32\n",
      " 12  Material_wc            float32\n",
      " 13  Size_wc                float32\n",
      " 14  Laptop Compartment_wc  float32\n",
      " 15  Waterproof_wc          float32\n",
      " 16  Style_wc               float32\n",
      " 17  Color_wc               float32\n",
      "dtypes: float32(14), float64(3), int64(1)\n",
      "memory usage: 335.2 MB\n"
     ]
    }
   ],
   "source": [
    "train.info()"
   ]
  },
  {
   "cell_type": "code",
   "execution_count": 12,
   "id": "04d5d49c",
   "metadata": {
    "execution": {
     "iopub.execute_input": "2025-04-16T04:39:02.926053Z",
     "iopub.status.busy": "2025-04-16T04:39:02.925806Z",
     "iopub.status.idle": "2025-04-16T04:39:02.949517Z",
     "shell.execute_reply": "2025-04-16T04:39:02.948715Z"
    },
    "papermill": {
     "duration": 0.030018,
     "end_time": "2025-04-16T04:39:02.950726",
     "exception": false,
     "start_time": "2025-04-16T04:39:02.920708",
     "status": "completed"
    },
    "tags": []
   },
   "outputs": [
    {
     "name": "stdout",
     "output_type": "stream",
     "text": [
      "<class 'cudf.core.dataframe.DataFrame'>\n",
      "RangeIndex: 200000 entries, 0 to 199999\n",
      "Data columns (total 17 columns):\n",
      " #   Column                 Non-Null Count   Dtype\n",
      "---  ------                 --------------   -----\n",
      " 0   id                     200000 non-null  int64\n",
      " 1   Brand                  200000 non-null  float32\n",
      " 2   Material               200000 non-null  float32\n",
      " 3   Size                   200000 non-null  float32\n",
      " 4   Compartments           200000 non-null  float64\n",
      " 5   Laptop Compartment     200000 non-null  float32\n",
      " 6   Waterproof             200000 non-null  float32\n",
      " 7   Style                  200000 non-null  float32\n",
      " 8   Color                  200000 non-null  float32\n",
      " 9   Weight Capacity (kg)   200000 non-null  float64\n",
      " 10  Brand_wc               200000 non-null  float32\n",
      " 11  Material_wc            200000 non-null  float32\n",
      " 12  Size_wc                200000 non-null  float32\n",
      " 13  Laptop Compartment_wc  200000 non-null  float32\n",
      " 14  Waterproof_wc          200000 non-null  float32\n",
      " 15  Style_wc               200000 non-null  float32\n",
      " 16  Color_wc               200000 non-null  float32\n",
      "dtypes: float32(14), float64(2), int64(1)\n",
      "memory usage: 15.3 MB\n"
     ]
    }
   ],
   "source": [
    "test.info()"
   ]
  },
  {
   "cell_type": "code",
   "execution_count": 13,
   "id": "27f41904",
   "metadata": {
    "execution": {
     "iopub.execute_input": "2025-04-16T04:39:02.960830Z",
     "iopub.status.busy": "2025-04-16T04:39:02.960634Z",
     "iopub.status.idle": "2025-04-16T04:39:02.985761Z",
     "shell.execute_reply": "2025-04-16T04:39:02.985004Z"
    },
    "papermill": {
     "duration": 0.031453,
     "end_time": "2025-04-16T04:39:02.986975",
     "exception": false,
     "start_time": "2025-04-16T04:39:02.955522",
     "status": "completed"
    },
    "tags": []
   },
   "outputs": [
    {
     "data": {
      "text/html": [
       "<div>\n",
       "<style scoped>\n",
       "    .dataframe tbody tr th:only-of-type {\n",
       "        vertical-align: middle;\n",
       "    }\n",
       "\n",
       "    .dataframe tbody tr th {\n",
       "        vertical-align: top;\n",
       "    }\n",
       "\n",
       "    .dataframe thead th {\n",
       "        text-align: right;\n",
       "    }\n",
       "</style>\n",
       "<table border=\"1\" class=\"dataframe\">\n",
       "  <thead>\n",
       "    <tr style=\"text-align: right;\">\n",
       "      <th></th>\n",
       "      <th>id</th>\n",
       "      <th>Brand</th>\n",
       "      <th>Material</th>\n",
       "      <th>Size</th>\n",
       "      <th>Compartments</th>\n",
       "      <th>Laptop Compartment</th>\n",
       "      <th>Waterproof</th>\n",
       "      <th>Style</th>\n",
       "      <th>Color</th>\n",
       "      <th>Weight Capacity (kg)</th>\n",
       "      <th>Brand_wc</th>\n",
       "      <th>Material_wc</th>\n",
       "      <th>Size_wc</th>\n",
       "      <th>Laptop Compartment_wc</th>\n",
       "      <th>Waterproof_wc</th>\n",
       "      <th>Style_wc</th>\n",
       "      <th>Color_wc</th>\n",
       "    </tr>\n",
       "  </thead>\n",
       "  <tbody>\n",
       "    <tr>\n",
       "      <th>0</th>\n",
       "      <td>300000</td>\n",
       "      <td>4.0</td>\n",
       "      <td>0.0</td>\n",
       "      <td>1.0</td>\n",
       "      <td>2.0</td>\n",
       "      <td>1.0</td>\n",
       "      <td>0.0</td>\n",
       "      <td>0.0</td>\n",
       "      <td>1.0</td>\n",
       "      <td>20.671147</td>\n",
       "      <td>420.671143</td>\n",
       "      <td>20.671146</td>\n",
       "      <td>120.671150</td>\n",
       "      <td>120.671150</td>\n",
       "      <td>20.671146</td>\n",
       "      <td>20.671146</td>\n",
       "      <td>120.671150</td>\n",
       "    </tr>\n",
       "    <tr>\n",
       "      <th>1</th>\n",
       "      <td>300001</td>\n",
       "      <td>2.0</td>\n",
       "      <td>1.0</td>\n",
       "      <td>0.0</td>\n",
       "      <td>7.0</td>\n",
       "      <td>1.0</td>\n",
       "      <td>1.0</td>\n",
       "      <td>3.0</td>\n",
       "      <td>1.0</td>\n",
       "      <td>13.564105</td>\n",
       "      <td>213.564102</td>\n",
       "      <td>113.564102</td>\n",
       "      <td>13.564105</td>\n",
       "      <td>113.564102</td>\n",
       "      <td>113.564102</td>\n",
       "      <td>313.564117</td>\n",
       "      <td>113.564102</td>\n",
       "    </tr>\n",
       "    <tr>\n",
       "      <th>2</th>\n",
       "      <td>300002</td>\n",
       "      <td>3.0</td>\n",
       "      <td>1.0</td>\n",
       "      <td>2.0</td>\n",
       "      <td>9.0</td>\n",
       "      <td>1.0</td>\n",
       "      <td>1.0</td>\n",
       "      <td>1.0</td>\n",
       "      <td>3.0</td>\n",
       "      <td>11.809799</td>\n",
       "      <td>311.809784</td>\n",
       "      <td>111.809799</td>\n",
       "      <td>211.809799</td>\n",
       "      <td>111.809799</td>\n",
       "      <td>111.809799</td>\n",
       "      <td>111.809799</td>\n",
       "      <td>311.809784</td>\n",
       "    </tr>\n",
       "    <tr>\n",
       "      <th>3</th>\n",
       "      <td>300003</td>\n",
       "      <td>3.0</td>\n",
       "      <td>2.0</td>\n",
       "      <td>2.0</td>\n",
       "      <td>1.0</td>\n",
       "      <td>0.0</td>\n",
       "      <td>0.0</td>\n",
       "      <td>1.0</td>\n",
       "      <td>1.0</td>\n",
       "      <td>18.477036</td>\n",
       "      <td>318.477051</td>\n",
       "      <td>218.477036</td>\n",
       "      <td>218.477036</td>\n",
       "      <td>18.477036</td>\n",
       "      <td>18.477036</td>\n",
       "      <td>118.477036</td>\n",
       "      <td>118.477036</td>\n",
       "    </tr>\n",
       "    <tr>\n",
       "      <th>4</th>\n",
       "      <td>300004</td>\n",
       "      <td>5.0</td>\n",
       "      <td>2.0</td>\n",
       "      <td>2.0</td>\n",
       "      <td>2.0</td>\n",
       "      <td>0.0</td>\n",
       "      <td>1.0</td>\n",
       "      <td>0.0</td>\n",
       "      <td>0.0</td>\n",
       "      <td>9.907953</td>\n",
       "      <td>509.907959</td>\n",
       "      <td>209.907959</td>\n",
       "      <td>209.907959</td>\n",
       "      <td>9.907953</td>\n",
       "      <td>109.907951</td>\n",
       "      <td>9.907953</td>\n",
       "      <td>9.907953</td>\n",
       "    </tr>\n",
       "  </tbody>\n",
       "</table>\n",
       "</div>"
      ],
      "text/plain": [
       "       id  Brand  Material  Size  Compartments  Laptop Compartment  \\\n",
       "0  300000    4.0       0.0   1.0           2.0                 1.0   \n",
       "1  300001    2.0       1.0   0.0           7.0                 1.0   \n",
       "2  300002    3.0       1.0   2.0           9.0                 1.0   \n",
       "3  300003    3.0       2.0   2.0           1.0                 0.0   \n",
       "4  300004    5.0       2.0   2.0           2.0                 0.0   \n",
       "\n",
       "   Waterproof  Style  Color  Weight Capacity (kg)    Brand_wc  Material_wc  \\\n",
       "0         0.0    0.0    1.0             20.671147  420.671143    20.671146   \n",
       "1         1.0    3.0    1.0             13.564105  213.564102   113.564102   \n",
       "2         1.0    1.0    3.0             11.809799  311.809784   111.809799   \n",
       "3         0.0    1.0    1.0             18.477036  318.477051   218.477036   \n",
       "4         1.0    0.0    0.0              9.907953  509.907959   209.907959   \n",
       "\n",
       "      Size_wc  Laptop Compartment_wc  Waterproof_wc    Style_wc    Color_wc  \n",
       "0  120.671150             120.671150      20.671146   20.671146  120.671150  \n",
       "1   13.564105             113.564102     113.564102  313.564117  113.564102  \n",
       "2  211.809799             111.809799     111.809799  111.809799  311.809784  \n",
       "3  218.477036              18.477036      18.477036  118.477036  118.477036  \n",
       "4  209.907959               9.907953     109.907951    9.907953    9.907953  "
      ]
     },
     "execution_count": 13,
     "metadata": {},
     "output_type": "execute_result"
    }
   ],
   "source": [
    "test.head()"
   ]
  },
  {
   "cell_type": "code",
   "execution_count": 14,
   "id": "43bee5be",
   "metadata": {
    "execution": {
     "iopub.execute_input": "2025-04-16T04:39:02.998144Z",
     "iopub.status.busy": "2025-04-16T04:39:02.997856Z",
     "iopub.status.idle": "2025-04-16T04:39:16.260160Z",
     "shell.execute_reply": "2025-04-16T04:39:16.259212Z"
    },
    "papermill": {
     "duration": 13.269431,
     "end_time": "2025-04-16T04:39:16.261754",
     "exception": false,
     "start_time": "2025-04-16T04:39:02.992323",
     "status": "completed"
    },
    "tags": []
   },
   "outputs": [],
   "source": [
    "from sklearn.model_selection import KFold, cross_val_score\n",
    "from cuml.metrics import mean_squared_error\n",
    "\n",
    "X = train.copy()\n",
    "y = X.pop('Price')\n",
    "X_test = test.copy()\n",
    "\n",
    "n_folds=10\n",
    "\n",
    "kf = KFold(n_splits=n_folds, shuffle=True, random_state=600)\n",
    "\n",
    "for train_index, valid_index in kf.split(X, y):\n",
    "    X_train, X_valid = X.iloc[train_index], X.iloc[valid_index]\n",
    "    y_train, y_valid = y.iloc[train_index], y.iloc[valid_index]"
   ]
  },
  {
   "cell_type": "markdown",
   "id": "c633a609",
   "metadata": {
    "papermill": {
     "duration": 0.004909,
     "end_time": "2025-04-16T04:39:16.272096",
     "exception": false,
     "start_time": "2025-04-16T04:39:16.267187",
     "status": "completed"
    },
    "tags": []
   },
   "source": [
    "## Target encoding with quantile"
   ]
  },
  {
   "cell_type": "code",
   "execution_count": 15,
   "id": "55d6ddc7",
   "metadata": {
    "execution": {
     "iopub.execute_input": "2025-04-16T04:39:16.283074Z",
     "iopub.status.busy": "2025-04-16T04:39:16.282554Z",
     "iopub.status.idle": "2025-04-16T04:39:16.987067Z",
     "shell.execute_reply": "2025-04-16T04:39:16.986411Z"
    },
    "papermill": {
     "duration": 0.711637,
     "end_time": "2025-04-16T04:39:16.988561",
     "exception": false,
     "start_time": "2025-04-16T04:39:16.276924",
     "status": "completed"
    },
    "tags": []
   },
   "outputs": [],
   "source": [
    "train_with_target = X_train.copy()\n",
    "train_with_target['Price'] = y_train\n",
    "\n",
    "quants = [25, 50, 75, 95]\n",
    "\n",
    "for q in quants:\n",
    "    result = train_with_target.groupby('Weight Capacity (kg)')['Price'] \\\n",
    "        .quantile(q/100).reset_index().fillna(0.0)\n",
    "    result.rename(columns={'Price': f'quantile_{q}'}, inplace=True)\n",
    "    X_train = X_train.merge(result, on='Weight Capacity (kg)', how='left')\n",
    "    X_valid = X_valid.merge(result, on='Weight Capacity (kg)', how='left')\n",
    "    X_test = X_test.merge(result, on='Weight Capacity (kg)', how='left')"
   ]
  },
  {
   "cell_type": "code",
   "execution_count": 16,
   "id": "63d7f0b3",
   "metadata": {
    "execution": {
     "iopub.execute_input": "2025-04-16T04:39:16.999877Z",
     "iopub.status.busy": "2025-04-16T04:39:16.999658Z",
     "iopub.status.idle": "2025-04-16T04:39:17.008879Z",
     "shell.execute_reply": "2025-04-16T04:39:17.008303Z"
    },
    "papermill": {
     "duration": 0.016263,
     "end_time": "2025-04-16T04:39:17.010135",
     "exception": false,
     "start_time": "2025-04-16T04:39:16.993872",
     "status": "completed"
    },
    "tags": []
   },
   "outputs": [],
   "source": [
    "# Initializing Prediction Arrays\n",
    "oof_xgb = np.zeros(len(y))\n",
    "oof_cat = np.zeros(len(y))\n",
    "oof_lgm = np.zeros(len(y))\n",
    "test_preds_xgb = np.zeros(len(X_test))\n",
    "test_preds_cat = np.zeros(len(X_test))\n",
    "test_preds_lgm = np.zeros(len(X_test))"
   ]
  },
  {
   "cell_type": "code",
   "execution_count": 17,
   "id": "9d7ee11a",
   "metadata": {
    "execution": {
     "iopub.execute_input": "2025-04-16T04:39:17.020999Z",
     "iopub.status.busy": "2025-04-16T04:39:17.020786Z",
     "iopub.status.idle": "2025-04-16T04:39:31.191997Z",
     "shell.execute_reply": "2025-04-16T04:39:31.191327Z"
    },
    "papermill": {
     "duration": 14.178428,
     "end_time": "2025-04-16T04:39:31.193658",
     "exception": false,
     "start_time": "2025-04-16T04:39:17.015230",
     "status": "completed"
    },
    "tags": []
   },
   "outputs": [],
   "source": [
    "from xgboost import XGBRegressor\n",
    "\n",
    "xgb = XGBRegressor(\n",
    "    n_estimators=1000, \n",
    "    early_stopping_rounds=50, \n",
    "    learning_rate=0.05, \n",
    "    eval_metric='rmse', \n",
    "    max_depth=5, \n",
    "    reg_lambda=8, \n",
    "    device='cuda',\n",
    "    tree_method='gpu_hist', \n",
    ")\n",
    "xgb.fit(\n",
    "    X_train, y_train,\n",
    "    eval_set=[(X_valid, y_valid)],\n",
    "    verbose=False,\n",
    ")\n",
    "xgb_pred = xgb.predict(X_valid)\n",
    "oof_xgb[valid_index] = xgb_pred\n",
    "test_preds_xgb += xgb.predict(X_test) / n_folds"
   ]
  },
  {
   "cell_type": "code",
   "execution_count": 18,
   "id": "174934b2",
   "metadata": {
    "execution": {
     "iopub.execute_input": "2025-04-16T04:39:31.205186Z",
     "iopub.status.busy": "2025-04-16T04:39:31.204912Z",
     "iopub.status.idle": "2025-04-16T04:39:44.078485Z",
     "shell.execute_reply": "2025-04-16T04:39:44.077719Z"
    },
    "papermill": {
     "duration": 12.880778,
     "end_time": "2025-04-16T04:39:44.080100",
     "exception": false,
     "start_time": "2025-04-16T04:39:31.199322",
     "status": "completed"
    },
    "tags": []
   },
   "outputs": [],
   "source": [
    "from lightgbm import LGBMRegressor\n",
    "\n",
    "lgm = LGBMRegressor(\n",
    "    n_estimators=1000,\n",
    "    learning_rate=0.05,\n",
    "    reg_lambda=1.05,\n",
    "    min_split_gain=3,\n",
    "    random_state=600,\n",
    "    device='gpu',\n",
    "    early_stopping_rounds=20,\n",
    "    verbose=-1,\n",
    ").fit(X_train, y_train, eval_set=[(X_valid, y_valid)])\n",
    "\n",
    "lgm_pred = lgm.predict(X_valid)\n",
    "oof_lgm[valid_index] = lgm_pred\n",
    "test_preds_lgm += lgm.predict(X_test) / n_folds"
   ]
  },
  {
   "cell_type": "code",
   "execution_count": 19,
   "id": "97447c00",
   "metadata": {
    "execution": {
     "iopub.execute_input": "2025-04-16T04:39:44.091697Z",
     "iopub.status.busy": "2025-04-16T04:39:44.091472Z",
     "iopub.status.idle": "2025-04-16T04:39:47.780884Z",
     "shell.execute_reply": "2025-04-16T04:39:47.780105Z"
    },
    "papermill": {
     "duration": 3.697079,
     "end_time": "2025-04-16T04:39:47.782757",
     "exception": false,
     "start_time": "2025-04-16T04:39:44.085678",
     "status": "completed"
    },
    "tags": []
   },
   "outputs": [
    {
     "name": "stderr",
     "output_type": "stream",
     "text": [
      "Warning: less than 75% GPU memory available for training. Free: 11212.125 Total: 15095.0625\n"
     ]
    }
   ],
   "source": [
    "from catboost import CatBoostRegressor\n",
    "from sklearn.model_selection import cross_val_score\n",
    "\n",
    "cat = CatBoostRegressor(\n",
    "    iterations=1000, \n",
    "    learning_rate=0.05,\n",
    "    depth=7, \n",
    "    l2_leaf_reg=6.1, \n",
    "    task_type='GPU',\n",
    "    devices='0',\n",
    "    early_stopping_rounds=20,\n",
    "    verbose=0,\n",
    "    ).fit(X_train, y_train, eval_set=[(X_valid, y_valid)])\n",
    "\n",
    "cat_pred = cat.predict(X_valid)\n",
    "oof_cat[valid_index] = cat_pred\n",
    "test_preds_cat += cat.predict(X_test) / n_folds"
   ]
  },
  {
   "cell_type": "code",
   "execution_count": 20,
   "id": "23426c14",
   "metadata": {
    "execution": {
     "iopub.execute_input": "2025-04-16T04:39:47.794832Z",
     "iopub.status.busy": "2025-04-16T04:39:47.794585Z",
     "iopub.status.idle": "2025-04-16T04:39:48.644358Z",
     "shell.execute_reply": "2025-04-16T04:39:48.643325Z"
    },
    "papermill": {
     "duration": 0.857035,
     "end_time": "2025-04-16T04:39:48.645804",
     "exception": false,
     "start_time": "2025-04-16T04:39:47.788769",
     "status": "completed"
    },
    "tags": []
   },
   "outputs": [
    {
     "name": "stdout",
     "output_type": "stream",
     "text": [
      "XGBoost OOF RMSE: 86.45696712969125\n",
      "LGMBoost OOF RMSE: 86.45738771167125\n",
      "CatBoost OOF RMSE: 86.45660158712485\n"
     ]
    }
   ],
   "source": [
    "print(f'XGBoost OOF RMSE: {np.sqrt(mean_squared_error(y, oof_xgb))}')\n",
    "print(f'LGMBoost OOF RMSE: {np.sqrt(mean_squared_error(y, oof_lgm))}')\n",
    "print(f'CatBoost OOF RMSE: {np.sqrt(mean_squared_error(y, oof_cat))}')"
   ]
  },
  {
   "cell_type": "code",
   "execution_count": 21,
   "id": "3c0f2362",
   "metadata": {
    "execution": {
     "iopub.execute_input": "2025-04-16T04:39:48.657452Z",
     "iopub.status.busy": "2025-04-16T04:39:48.657199Z",
     "iopub.status.idle": "2025-04-16T04:39:48.694939Z",
     "shell.execute_reply": "2025-04-16T04:39:48.694156Z"
    },
    "papermill": {
     "duration": 0.044767,
     "end_time": "2025-04-16T04:39:48.696196",
     "exception": false,
     "start_time": "2025-04-16T04:39:48.651429",
     "status": "completed"
    },
    "tags": []
   },
   "outputs": [],
   "source": [
    "meta_train = np.column_stack((oof_xgb, oof_lgm, oof_cat))\n",
    "meta_test = np.column_stack((test_preds_xgb, test_preds_lgm, test_preds_cat))"
   ]
  },
  {
   "cell_type": "code",
   "execution_count": 22,
   "id": "190b3e6f",
   "metadata": {
    "execution": {
     "iopub.execute_input": "2025-04-16T04:39:48.707067Z",
     "iopub.status.busy": "2025-04-16T04:39:48.706815Z",
     "iopub.status.idle": "2025-04-16T04:39:49.418062Z",
     "shell.execute_reply": "2025-04-16T04:39:49.416964Z"
    },
    "papermill": {
     "duration": 0.718297,
     "end_time": "2025-04-16T04:39:49.419634",
     "exception": false,
     "start_time": "2025-04-16T04:39:48.701337",
     "status": "completed"
    },
    "tags": []
   },
   "outputs": [
    {
     "name": "stdout",
     "output_type": "stream",
     "text": [
      "Your submission was successfully saved!\n"
     ]
    }
   ],
   "source": [
    "from sklearn.linear_model import BayesianRidge\n",
    "\n",
    "meta_model = BayesianRidge().fit(meta_train, y)\n",
    "\n",
    "final_preds = meta_model.predict(meta_test)\n",
    "output = pd.DataFrame({'id': test.id, 'price': final_preds})\n",
    "output.to_csv('submission.csv', index=False)\n",
    "print(\"Your submission was successfully saved!\")"
   ]
  }
 ],
 "metadata": {
  "kaggle": {
   "accelerator": "nvidiaTeslaT4",
   "dataSources": [
    {
     "databundleVersionId": 10995111,
     "sourceId": 90274,
     "sourceType": "competition"
    }
   ],
   "dockerImageVersionId": 30918,
   "isGpuEnabled": true,
   "isInternetEnabled": true,
   "language": "python",
   "sourceType": "notebook"
  },
  "kernelspec": {
   "display_name": "Python 3",
   "language": "python",
   "name": "python3"
  },
  "language_info": {
   "codemirror_mode": {
    "name": "ipython",
    "version": 3
   },
   "file_extension": ".py",
   "mimetype": "text/x-python",
   "name": "python",
   "nbconvert_exporter": "python",
   "pygments_lexer": "ipython3",
   "version": "3.10.12"
  },
  "papermill": {
   "default_parameters": {},
   "duration": 96.807694,
   "end_time": "2025-04-16T04:39:52.125989",
   "environment_variables": {},
   "exception": null,
   "input_path": "__notebook__.ipynb",
   "output_path": "__notebook__.ipynb",
   "parameters": {},
   "start_time": "2025-04-16T04:38:15.318295",
   "version": "2.6.0"
  }
 },
 "nbformat": 4,
 "nbformat_minor": 5
}
