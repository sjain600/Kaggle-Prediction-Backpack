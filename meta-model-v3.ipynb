{
 "cells": [
  {
   "cell_type": "code",
   "execution_count": 1,
   "id": "62c1d3e8",
   "metadata": {
    "execution": {
     "iopub.execute_input": "2025-04-14T11:33:35.029081Z",
     "iopub.status.busy": "2025-04-14T11:33:35.028792Z",
     "iopub.status.idle": "2025-04-14T11:33:42.241120Z",
     "shell.execute_reply": "2025-04-14T11:33:42.240021Z"
    },
    "papermill": {
     "duration": 7.2191,
     "end_time": "2025-04-14T11:33:42.242395",
     "exception": false,
     "start_time": "2025-04-14T11:33:35.023295",
     "status": "completed"
    },
    "tags": []
   },
   "outputs": [
    {
     "name": "stdout",
     "output_type": "stream",
     "text": [
      "/kaggle/input/playground-series-s5e2/sample_submission.csv\n",
      "/kaggle/input/playground-series-s5e2/train.csv\n",
      "/kaggle/input/playground-series-s5e2/test.csv\n",
      "/kaggle/input/playground-series-s5e2/training_extra.csv\n"
     ]
    }
   ],
   "source": [
    "%load_ext cudf.pandas\n",
    "import numpy as np # linear algebra\n",
    "import pandas as pd # data processing, CSV file I/O (e.g. pd.read_csv)\n",
    "import matplotlib.pyplot as plt\n",
    "\n",
    "# Input data files are available in the read-only \"../input/\" directory\n",
    "# For example, running this (by clicking run or pressing Shift+Enter) will list all files under the input directory\n",
    "\n",
    "import os\n",
    "for dirname, _, filenames in os.walk('/kaggle/input'):\n",
    "    for filename in filenames:\n",
    "        print(os.path.join(dirname, filename))\n",
    "\n",
    "import warnings\n",
    "warnings.filterwarnings(\"ignore\")\n",
    "\n",
    "# You can write up to 20GB to the current directory (/kaggle/working/) that gets preserved as output when you create a version using \"Save & Run All\" \n",
    "# You can also write temporary files to /kaggle/temp/, but they won't be saved outside of the current session\n"
   ]
  },
  {
   "cell_type": "code",
   "execution_count": 2,
   "id": "905abb3f",
   "metadata": {
    "execution": {
     "iopub.execute_input": "2025-04-14T11:33:42.251815Z",
     "iopub.status.busy": "2025-04-14T11:33:42.251214Z",
     "iopub.status.idle": "2025-04-14T11:33:43.579926Z",
     "shell.execute_reply": "2025-04-14T11:33:43.579141Z"
    },
    "papermill": {
     "duration": 1.334831,
     "end_time": "2025-04-14T11:33:43.581514",
     "exception": false,
     "start_time": "2025-04-14T11:33:42.246683",
     "status": "completed"
    },
    "tags": []
   },
   "outputs": [],
   "source": [
    "train = pd.read_csv('/kaggle/input/playground-series-s5e2/train.csv')\n",
    "train_extra = pd.read_csv('/kaggle/input/playground-series-s5e2/training_extra.csv')\n",
    "test = pd.read_csv('/kaggle/input/playground-series-s5e2/test.csv')"
   ]
  },
  {
   "cell_type": "code",
   "execution_count": 3,
   "id": "7f874e16",
   "metadata": {
    "execution": {
     "iopub.execute_input": "2025-04-14T11:33:43.593236Z",
     "iopub.status.busy": "2025-04-14T11:33:43.593002Z",
     "iopub.status.idle": "2025-04-14T11:33:43.630561Z",
     "shell.execute_reply": "2025-04-14T11:33:43.629985Z"
    },
    "papermill": {
     "duration": 0.044053,
     "end_time": "2025-04-14T11:33:43.631983",
     "exception": false,
     "start_time": "2025-04-14T11:33:43.587930",
     "status": "completed"
    },
    "tags": []
   },
   "outputs": [],
   "source": [
    "train = pd.concat([train, train_extra], axis=0, ignore_index=True)"
   ]
  },
  {
   "cell_type": "markdown",
   "id": "10e6f6fa",
   "metadata": {
    "papermill": {
     "duration": 0.003545,
     "end_time": "2025-04-14T11:33:43.639437",
     "exception": false,
     "start_time": "2025-04-14T11:33:43.635892",
     "status": "completed"
    },
    "tags": []
   },
   "source": [
    "## Data Understanding"
   ]
  },
  {
   "cell_type": "code",
   "execution_count": 4,
   "id": "7b23096a",
   "metadata": {
    "execution": {
     "iopub.execute_input": "2025-04-14T11:33:43.647681Z",
     "iopub.status.busy": "2025-04-14T11:33:43.647438Z",
     "iopub.status.idle": "2025-04-14T11:33:43.710298Z",
     "shell.execute_reply": "2025-04-14T11:33:43.709188Z"
    },
    "papermill": {
     "duration": 0.068456,
     "end_time": "2025-04-14T11:33:43.711621",
     "exception": false,
     "start_time": "2025-04-14T11:33:43.643165",
     "status": "completed"
    },
    "tags": []
   },
   "outputs": [
    {
     "name": "stdout",
     "output_type": "stream",
     "text": [
      "<class 'cudf.core.dataframe.DataFrame'>\n",
      "RangeIndex: 3994318 entries, 0 to 3994317\n",
      "Data columns (total 11 columns):\n",
      " #   Column                Dtype\n",
      "---  ------                -----\n",
      " 0   id                    int64\n",
      " 1   Brand                 object\n",
      " 2   Material              object\n",
      " 3   Size                  object\n",
      " 4   Compartments          float64\n",
      " 5   Laptop Compartment    object\n",
      " 6   Waterproof            object\n",
      " 7   Style                 object\n",
      " 8   Color                 object\n",
      " 9   Weight Capacity (kg)  float64\n",
      " 10  Price                 float64\n",
      "dtypes: float64(3), int64(1), object(7)\n",
      "memory usage: 362.7+ MB\n"
     ]
    }
   ],
   "source": [
    "train.info()"
   ]
  },
  {
   "cell_type": "code",
   "execution_count": 5,
   "id": "ccd36e57",
   "metadata": {
    "execution": {
     "iopub.execute_input": "2025-04-14T11:33:43.720276Z",
     "iopub.status.busy": "2025-04-14T11:33:43.720034Z",
     "iopub.status.idle": "2025-04-14T11:33:44.853405Z",
     "shell.execute_reply": "2025-04-14T11:33:44.852487Z"
    },
    "papermill": {
     "duration": 1.139453,
     "end_time": "2025-04-14T11:33:44.855042",
     "exception": false,
     "start_time": "2025-04-14T11:33:43.715589",
     "status": "completed"
    },
    "tags": []
   },
   "outputs": [
    {
     "data": {
      "text/html": [
       "<div>\n",
       "<style scoped>\n",
       "    .dataframe tbody tr th:only-of-type {\n",
       "        vertical-align: middle;\n",
       "    }\n",
       "\n",
       "    .dataframe tbody tr th {\n",
       "        vertical-align: top;\n",
       "    }\n",
       "\n",
       "    .dataframe thead th {\n",
       "        text-align: right;\n",
       "    }\n",
       "</style>\n",
       "<table border=\"1\" class=\"dataframe\">\n",
       "  <thead>\n",
       "    <tr style=\"text-align: right;\">\n",
       "      <th></th>\n",
       "      <th>id</th>\n",
       "      <th>Compartments</th>\n",
       "      <th>Weight Capacity (kg)</th>\n",
       "      <th>Price</th>\n",
       "    </tr>\n",
       "  </thead>\n",
       "  <tbody>\n",
       "    <tr>\n",
       "      <th>count</th>\n",
       "      <td>3.994318e+06</td>\n",
       "      <td>3.994318e+06</td>\n",
       "      <td>3.992510e+06</td>\n",
       "      <td>3.994318e+06</td>\n",
       "    </tr>\n",
       "    <tr>\n",
       "      <th>mean</th>\n",
       "      <td>2.182137e+06</td>\n",
       "      <td>5.434740e+00</td>\n",
       "      <td>1.801042e+01</td>\n",
       "      <td>8.136217e+01</td>\n",
       "    </tr>\n",
       "    <tr>\n",
       "      <th>std</th>\n",
       "      <td>1.178058e+06</td>\n",
       "      <td>2.893043e+00</td>\n",
       "      <td>6.973969e+00</td>\n",
       "      <td>3.893868e+01</td>\n",
       "    </tr>\n",
       "    <tr>\n",
       "      <th>min</th>\n",
       "      <td>0.000000e+00</td>\n",
       "      <td>1.000000e+00</td>\n",
       "      <td>5.000000e+00</td>\n",
       "      <td>1.500000e+01</td>\n",
       "    </tr>\n",
       "    <tr>\n",
       "      <th>25%</th>\n",
       "      <td>1.198579e+06</td>\n",
       "      <td>3.000000e+00</td>\n",
       "      <td>1.206896e+01</td>\n",
       "      <td>4.747002e+01</td>\n",
       "    </tr>\n",
       "    <tr>\n",
       "      <th>50%</th>\n",
       "      <td>2.197158e+06</td>\n",
       "      <td>5.000000e+00</td>\n",
       "      <td>1.805436e+01</td>\n",
       "      <td>8.098495e+01</td>\n",
       "    </tr>\n",
       "    <tr>\n",
       "      <th>75%</th>\n",
       "      <td>3.195738e+06</td>\n",
       "      <td>8.000000e+00</td>\n",
       "      <td>2.398750e+01</td>\n",
       "      <td>1.148550e+02</td>\n",
       "    </tr>\n",
       "    <tr>\n",
       "      <th>max</th>\n",
       "      <td>4.194317e+06</td>\n",
       "      <td>1.000000e+01</td>\n",
       "      <td>3.000000e+01</td>\n",
       "      <td>1.500000e+02</td>\n",
       "    </tr>\n",
       "  </tbody>\n",
       "</table>\n",
       "</div>"
      ],
      "text/plain": [
       "                 id  Compartments  Weight Capacity (kg)         Price\n",
       "count  3.994318e+06  3.994318e+06          3.992510e+06  3.994318e+06\n",
       "mean   2.182137e+06  5.434740e+00          1.801042e+01  8.136217e+01\n",
       "std    1.178058e+06  2.893043e+00          6.973969e+00  3.893868e+01\n",
       "min    0.000000e+00  1.000000e+00          5.000000e+00  1.500000e+01\n",
       "25%    1.198579e+06  3.000000e+00          1.206896e+01  4.747002e+01\n",
       "50%    2.197158e+06  5.000000e+00          1.805436e+01  8.098495e+01\n",
       "75%    3.195738e+06  8.000000e+00          2.398750e+01  1.148550e+02\n",
       "max    4.194317e+06  1.000000e+01          3.000000e+01  1.500000e+02"
      ]
     },
     "execution_count": 5,
     "metadata": {},
     "output_type": "execute_result"
    }
   ],
   "source": [
    "train.describe()"
   ]
  },
  {
   "cell_type": "code",
   "execution_count": 6,
   "id": "4888ebe9",
   "metadata": {
    "execution": {
     "iopub.execute_input": "2025-04-14T11:33:44.865406Z",
     "iopub.status.busy": "2025-04-14T11:33:44.865152Z",
     "iopub.status.idle": "2025-04-14T11:33:44.922274Z",
     "shell.execute_reply": "2025-04-14T11:33:44.921346Z"
    },
    "papermill": {
     "duration": 0.063413,
     "end_time": "2025-04-14T11:33:44.923453",
     "exception": false,
     "start_time": "2025-04-14T11:33:44.860040",
     "status": "completed"
    },
    "tags": []
   },
   "outputs": [
    {
     "name": "stdout",
     "output_type": "stream",
     "text": [
      "Any missing for train df\n",
      "id                           0\n",
      "Brand                   126758\n",
      "Material                110962\n",
      "Size                     87785\n",
      "Compartments                 0\n",
      "Laptop Compartment       98533\n",
      "Waterproof               94324\n",
      "Style                   104180\n",
      "Color                   133617\n",
      "Weight Capacity (kg)      1808\n",
      "Price                        0\n",
      "dtype: int64\n",
      "\n",
      "Any missing for test df\n",
      "id                         0\n",
      "Brand                   6227\n",
      "Material                5613\n",
      "Size                    4381\n",
      "Compartments               0\n",
      "Laptop Compartment      4962\n",
      "Waterproof              4811\n",
      "Style                   5153\n",
      "Color                   6785\n",
      "Weight Capacity (kg)      77\n",
      "dtype: int64\n"
     ]
    }
   ],
   "source": [
    "print('Any missing for train df')\n",
    "print(train.isnull().sum())\n",
    "\n",
    "print(f'\\nAny missing for test df')\n",
    "print(test.isnull().sum())"
   ]
  },
  {
   "cell_type": "code",
   "execution_count": 7,
   "id": "cca18e11",
   "metadata": {
    "execution": {
     "iopub.execute_input": "2025-04-14T11:33:44.932655Z",
     "iopub.status.busy": "2025-04-14T11:33:44.932428Z",
     "iopub.status.idle": "2025-04-14T11:33:45.077887Z",
     "shell.execute_reply": "2025-04-14T11:33:45.077075Z"
    },
    "papermill": {
     "duration": 0.151591,
     "end_time": "2025-04-14T11:33:45.079380",
     "exception": false,
     "start_time": "2025-04-14T11:33:44.927789",
     "status": "completed"
    },
    "tags": []
   },
   "outputs": [
    {
     "data": {
      "text/html": [
       "<div>\n",
       "<style scoped>\n",
       "    .dataframe tbody tr th:only-of-type {\n",
       "        vertical-align: middle;\n",
       "    }\n",
       "\n",
       "    .dataframe tbody tr th {\n",
       "        vertical-align: top;\n",
       "    }\n",
       "\n",
       "    .dataframe thead th {\n",
       "        text-align: right;\n",
       "    }\n",
       "</style>\n",
       "<table border=\"1\" class=\"dataframe\">\n",
       "  <thead>\n",
       "    <tr style=\"text-align: right;\">\n",
       "      <th></th>\n",
       "      <th>id</th>\n",
       "      <th>Brand</th>\n",
       "      <th>Material</th>\n",
       "      <th>Size</th>\n",
       "      <th>Compartments</th>\n",
       "      <th>Laptop Compartment</th>\n",
       "      <th>Waterproof</th>\n",
       "      <th>Style</th>\n",
       "      <th>Color</th>\n",
       "      <th>Weight Capacity (kg)</th>\n",
       "      <th>Price</th>\n",
       "    </tr>\n",
       "  </thead>\n",
       "  <tbody>\n",
       "    <tr>\n",
       "      <th>0</th>\n",
       "      <td>0</td>\n",
       "      <td>Jansport</td>\n",
       "      <td>Leather</td>\n",
       "      <td>Medium</td>\n",
       "      <td>7.0</td>\n",
       "      <td>Yes</td>\n",
       "      <td>No</td>\n",
       "      <td>Tote</td>\n",
       "      <td>Black</td>\n",
       "      <td>11.611723</td>\n",
       "      <td>112.15875</td>\n",
       "    </tr>\n",
       "    <tr>\n",
       "      <th>1</th>\n",
       "      <td>1</td>\n",
       "      <td>Jansport</td>\n",
       "      <td>Canvas</td>\n",
       "      <td>Small</td>\n",
       "      <td>10.0</td>\n",
       "      <td>Yes</td>\n",
       "      <td>Yes</td>\n",
       "      <td>Messenger</td>\n",
       "      <td>Green</td>\n",
       "      <td>27.078537</td>\n",
       "      <td>68.88056</td>\n",
       "    </tr>\n",
       "    <tr>\n",
       "      <th>2</th>\n",
       "      <td>2</td>\n",
       "      <td>Under Armour</td>\n",
       "      <td>Leather</td>\n",
       "      <td>Small</td>\n",
       "      <td>2.0</td>\n",
       "      <td>Yes</td>\n",
       "      <td>No</td>\n",
       "      <td>Messenger</td>\n",
       "      <td>Red</td>\n",
       "      <td>16.643760</td>\n",
       "      <td>39.17320</td>\n",
       "    </tr>\n",
       "    <tr>\n",
       "      <th>3</th>\n",
       "      <td>3</td>\n",
       "      <td>Nike</td>\n",
       "      <td>Nylon</td>\n",
       "      <td>Small</td>\n",
       "      <td>8.0</td>\n",
       "      <td>Yes</td>\n",
       "      <td>No</td>\n",
       "      <td>Messenger</td>\n",
       "      <td>Green</td>\n",
       "      <td>12.937220</td>\n",
       "      <td>80.60793</td>\n",
       "    </tr>\n",
       "    <tr>\n",
       "      <th>4</th>\n",
       "      <td>4</td>\n",
       "      <td>Adidas</td>\n",
       "      <td>Canvas</td>\n",
       "      <td>Medium</td>\n",
       "      <td>1.0</td>\n",
       "      <td>Yes</td>\n",
       "      <td>Yes</td>\n",
       "      <td>Messenger</td>\n",
       "      <td>Green</td>\n",
       "      <td>17.749338</td>\n",
       "      <td>86.02312</td>\n",
       "    </tr>\n",
       "  </tbody>\n",
       "</table>\n",
       "</div>"
      ],
      "text/plain": [
       "   id         Brand Material    Size  Compartments Laptop Compartment  \\\n",
       "0   0      Jansport  Leather  Medium           7.0                Yes   \n",
       "1   1      Jansport   Canvas   Small          10.0                Yes   \n",
       "2   2  Under Armour  Leather   Small           2.0                Yes   \n",
       "3   3          Nike    Nylon   Small           8.0                Yes   \n",
       "4   4        Adidas   Canvas  Medium           1.0                Yes   \n",
       "\n",
       "  Waterproof      Style  Color  Weight Capacity (kg)      Price  \n",
       "0         No       Tote  Black             11.611723  112.15875  \n",
       "1        Yes  Messenger  Green             27.078537   68.88056  \n",
       "2         No  Messenger    Red             16.643760   39.17320  \n",
       "3         No  Messenger  Green             12.937220   80.60793  \n",
       "4        Yes  Messenger  Green             17.749338   86.02312  "
      ]
     },
     "execution_count": 7,
     "metadata": {},
     "output_type": "execute_result"
    }
   ],
   "source": [
    "train.head()"
   ]
  },
  {
   "cell_type": "markdown",
   "id": "bf6c172a",
   "metadata": {
    "papermill": {
     "duration": 0.004417,
     "end_time": "2025-04-14T11:33:45.088829",
     "exception": false,
     "start_time": "2025-04-14T11:33:45.084412",
     "status": "completed"
    },
    "tags": []
   },
   "source": [
    "## Data Preparation"
   ]
  },
  {
   "cell_type": "code",
   "execution_count": 8,
   "id": "7dc2055e",
   "metadata": {
    "execution": {
     "iopub.execute_input": "2025-04-14T11:33:45.099140Z",
     "iopub.status.busy": "2025-04-14T11:33:45.098900Z",
     "iopub.status.idle": "2025-04-14T11:33:58.923528Z",
     "shell.execute_reply": "2025-04-14T11:33:58.922827Z"
    },
    "papermill": {
     "duration": 13.831324,
     "end_time": "2025-04-14T11:33:58.925063",
     "exception": false,
     "start_time": "2025-04-14T11:33:45.093739",
     "status": "completed"
    },
    "tags": []
   },
   "outputs": [],
   "source": [
    "from sklearn.impute import SimpleImputer\n",
    "\n",
    "numerical_cols = test.select_dtypes(include=['float64']).columns\n",
    "impute = SimpleImputer(strategy='median')\n",
    "train[numerical_cols] = impute.fit_transform(train[numerical_cols])\n",
    "test[numerical_cols] = impute.fit_transform(test[numerical_cols])"
   ]
  },
  {
   "cell_type": "code",
   "execution_count": 9,
   "id": "c10404c3",
   "metadata": {
    "execution": {
     "iopub.execute_input": "2025-04-14T11:33:58.935102Z",
     "iopub.status.busy": "2025-04-14T11:33:58.934665Z",
     "iopub.status.idle": "2025-04-14T11:34:17.480001Z",
     "shell.execute_reply": "2025-04-14T11:34:17.479064Z"
    },
    "papermill": {
     "duration": 18.551843,
     "end_time": "2025-04-14T11:34:17.481649",
     "exception": false,
     "start_time": "2025-04-14T11:33:58.929806",
     "status": "completed"
    },
    "tags": []
   },
   "outputs": [],
   "source": [
    "cat_cols = train.select_dtypes(include=['object']).columns\n",
    "train[cat_cols] = train[cat_cols].fillna('unknown')\n",
    "test[cat_cols] = test[cat_cols].fillna('unknown')"
   ]
  },
  {
   "cell_type": "markdown",
   "id": "4d710eca",
   "metadata": {
    "papermill": {
     "duration": 0.004352,
     "end_time": "2025-04-14T11:34:17.490975",
     "exception": false,
     "start_time": "2025-04-14T11:34:17.486623",
     "status": "completed"
    },
    "tags": []
   },
   "source": [
    "## Feature Engineering"
   ]
  },
  {
   "cell_type": "code",
   "execution_count": 10,
   "id": "ae3d3aed",
   "metadata": {
    "execution": {
     "iopub.execute_input": "2025-04-14T11:34:17.500702Z",
     "iopub.status.busy": "2025-04-14T11:34:17.500440Z",
     "iopub.status.idle": "2025-04-14T11:34:18.117204Z",
     "shell.execute_reply": "2025-04-14T11:34:18.116284Z"
    },
    "papermill": {
     "duration": 0.6233,
     "end_time": "2025-04-14T11:34:18.118817",
     "exception": false,
     "start_time": "2025-04-14T11:34:17.495517",
     "status": "completed"
    },
    "tags": []
   },
   "outputs": [],
   "source": [
    "for i, c in enumerate(cat_cols):\n",
    "    combine = pd.concat([train[c], test[c]], axis=0)\n",
    "    combine, _ = pd.factorize(combine)\n",
    "    train[c] = combine[:len(train)].astype('float32')\n",
    "    test[c] = combine[len(train):].astype('float32')\n",
    "    n = f'{c}_wc'\n",
    "    train[n] = (train[c] * 100 + train['Weight Capacity (kg)']).astype('float32')\n",
    "    test[n] = (test[c] * 100 + test['Weight Capacity (kg)']).astype('float32')"
   ]
  },
  {
   "cell_type": "code",
   "execution_count": 11,
   "id": "baebc2c6",
   "metadata": {
    "execution": {
     "iopub.execute_input": "2025-04-14T11:34:18.128887Z",
     "iopub.status.busy": "2025-04-14T11:34:18.128609Z",
     "iopub.status.idle": "2025-04-14T11:34:18.141474Z",
     "shell.execute_reply": "2025-04-14T11:34:18.140529Z"
    },
    "papermill": {
     "duration": 0.019113,
     "end_time": "2025-04-14T11:34:18.142655",
     "exception": false,
     "start_time": "2025-04-14T11:34:18.123542",
     "status": "completed"
    },
    "tags": []
   },
   "outputs": [
    {
     "name": "stdout",
     "output_type": "stream",
     "text": [
      "<class 'cudf.core.dataframe.DataFrame'>\n",
      "RangeIndex: 3994318 entries, 0 to 3994317\n",
      "Data columns (total 18 columns):\n",
      " #   Column                 Dtype\n",
      "---  ------                 -----\n",
      " 0   id                     int64\n",
      " 1   Brand                  float32\n",
      " 2   Material               float32\n",
      " 3   Size                   float32\n",
      " 4   Compartments           float64\n",
      " 5   Laptop Compartment     float32\n",
      " 6   Waterproof             float32\n",
      " 7   Style                  float32\n",
      " 8   Color                  float32\n",
      " 9   Weight Capacity (kg)   float64\n",
      " 10  Price                  float64\n",
      " 11  Brand_wc               float32\n",
      " 12  Material_wc            float32\n",
      " 13  Size_wc                float32\n",
      " 14  Laptop Compartment_wc  float32\n",
      " 15  Waterproof_wc          float32\n",
      " 16  Style_wc               float32\n",
      " 17  Color_wc               float32\n",
      "dtypes: float32(14), float64(3), int64(1)\n",
      "memory usage: 335.2 MB\n"
     ]
    }
   ],
   "source": [
    "train.info()"
   ]
  },
  {
   "cell_type": "code",
   "execution_count": 12,
   "id": "0a086e8f",
   "metadata": {
    "execution": {
     "iopub.execute_input": "2025-04-14T11:34:18.152141Z",
     "iopub.status.busy": "2025-04-14T11:34:18.151936Z",
     "iopub.status.idle": "2025-04-14T11:34:18.175485Z",
     "shell.execute_reply": "2025-04-14T11:34:18.174624Z"
    },
    "papermill": {
     "duration": 0.029661,
     "end_time": "2025-04-14T11:34:18.176805",
     "exception": false,
     "start_time": "2025-04-14T11:34:18.147144",
     "status": "completed"
    },
    "tags": []
   },
   "outputs": [
    {
     "name": "stdout",
     "output_type": "stream",
     "text": [
      "<class 'cudf.core.dataframe.DataFrame'>\n",
      "RangeIndex: 200000 entries, 0 to 199999\n",
      "Data columns (total 17 columns):\n",
      " #   Column                 Non-Null Count   Dtype\n",
      "---  ------                 --------------   -----\n",
      " 0   id                     200000 non-null  int64\n",
      " 1   Brand                  200000 non-null  float32\n",
      " 2   Material               200000 non-null  float32\n",
      " 3   Size                   200000 non-null  float32\n",
      " 4   Compartments           200000 non-null  float64\n",
      " 5   Laptop Compartment     200000 non-null  float32\n",
      " 6   Waterproof             200000 non-null  float32\n",
      " 7   Style                  200000 non-null  float32\n",
      " 8   Color                  200000 non-null  float32\n",
      " 9   Weight Capacity (kg)   200000 non-null  float64\n",
      " 10  Brand_wc               200000 non-null  float32\n",
      " 11  Material_wc            200000 non-null  float32\n",
      " 12  Size_wc                200000 non-null  float32\n",
      " 13  Laptop Compartment_wc  200000 non-null  float32\n",
      " 14  Waterproof_wc          200000 non-null  float32\n",
      " 15  Style_wc               200000 non-null  float32\n",
      " 16  Color_wc               200000 non-null  float32\n",
      "dtypes: float32(14), float64(2), int64(1)\n",
      "memory usage: 15.3 MB\n"
     ]
    }
   ],
   "source": [
    "test.info()"
   ]
  },
  {
   "cell_type": "code",
   "execution_count": 13,
   "id": "035d3590",
   "metadata": {
    "execution": {
     "iopub.execute_input": "2025-04-14T11:34:18.186723Z",
     "iopub.status.busy": "2025-04-14T11:34:18.186509Z",
     "iopub.status.idle": "2025-04-14T11:34:18.212486Z",
     "shell.execute_reply": "2025-04-14T11:34:18.211714Z"
    },
    "papermill": {
     "duration": 0.032232,
     "end_time": "2025-04-14T11:34:18.213724",
     "exception": false,
     "start_time": "2025-04-14T11:34:18.181492",
     "status": "completed"
    },
    "tags": []
   },
   "outputs": [
    {
     "data": {
      "text/html": [
       "<div>\n",
       "<style scoped>\n",
       "    .dataframe tbody tr th:only-of-type {\n",
       "        vertical-align: middle;\n",
       "    }\n",
       "\n",
       "    .dataframe tbody tr th {\n",
       "        vertical-align: top;\n",
       "    }\n",
       "\n",
       "    .dataframe thead th {\n",
       "        text-align: right;\n",
       "    }\n",
       "</style>\n",
       "<table border=\"1\" class=\"dataframe\">\n",
       "  <thead>\n",
       "    <tr style=\"text-align: right;\">\n",
       "      <th></th>\n",
       "      <th>id</th>\n",
       "      <th>Brand</th>\n",
       "      <th>Material</th>\n",
       "      <th>Size</th>\n",
       "      <th>Compartments</th>\n",
       "      <th>Laptop Compartment</th>\n",
       "      <th>Waterproof</th>\n",
       "      <th>Style</th>\n",
       "      <th>Color</th>\n",
       "      <th>Weight Capacity (kg)</th>\n",
       "      <th>Brand_wc</th>\n",
       "      <th>Material_wc</th>\n",
       "      <th>Size_wc</th>\n",
       "      <th>Laptop Compartment_wc</th>\n",
       "      <th>Waterproof_wc</th>\n",
       "      <th>Style_wc</th>\n",
       "      <th>Color_wc</th>\n",
       "    </tr>\n",
       "  </thead>\n",
       "  <tbody>\n",
       "    <tr>\n",
       "      <th>0</th>\n",
       "      <td>300000</td>\n",
       "      <td>4.0</td>\n",
       "      <td>0.0</td>\n",
       "      <td>1.0</td>\n",
       "      <td>2.0</td>\n",
       "      <td>1.0</td>\n",
       "      <td>0.0</td>\n",
       "      <td>0.0</td>\n",
       "      <td>1.0</td>\n",
       "      <td>20.671147</td>\n",
       "      <td>420.671143</td>\n",
       "      <td>20.671146</td>\n",
       "      <td>120.671150</td>\n",
       "      <td>120.671150</td>\n",
       "      <td>20.671146</td>\n",
       "      <td>20.671146</td>\n",
       "      <td>120.671150</td>\n",
       "    </tr>\n",
       "    <tr>\n",
       "      <th>1</th>\n",
       "      <td>300001</td>\n",
       "      <td>2.0</td>\n",
       "      <td>1.0</td>\n",
       "      <td>0.0</td>\n",
       "      <td>7.0</td>\n",
       "      <td>1.0</td>\n",
       "      <td>1.0</td>\n",
       "      <td>3.0</td>\n",
       "      <td>1.0</td>\n",
       "      <td>13.564105</td>\n",
       "      <td>213.564102</td>\n",
       "      <td>113.564102</td>\n",
       "      <td>13.564105</td>\n",
       "      <td>113.564102</td>\n",
       "      <td>113.564102</td>\n",
       "      <td>313.564117</td>\n",
       "      <td>113.564102</td>\n",
       "    </tr>\n",
       "    <tr>\n",
       "      <th>2</th>\n",
       "      <td>300002</td>\n",
       "      <td>3.0</td>\n",
       "      <td>1.0</td>\n",
       "      <td>2.0</td>\n",
       "      <td>9.0</td>\n",
       "      <td>1.0</td>\n",
       "      <td>1.0</td>\n",
       "      <td>1.0</td>\n",
       "      <td>3.0</td>\n",
       "      <td>11.809799</td>\n",
       "      <td>311.809784</td>\n",
       "      <td>111.809799</td>\n",
       "      <td>211.809799</td>\n",
       "      <td>111.809799</td>\n",
       "      <td>111.809799</td>\n",
       "      <td>111.809799</td>\n",
       "      <td>311.809784</td>\n",
       "    </tr>\n",
       "    <tr>\n",
       "      <th>3</th>\n",
       "      <td>300003</td>\n",
       "      <td>3.0</td>\n",
       "      <td>2.0</td>\n",
       "      <td>2.0</td>\n",
       "      <td>1.0</td>\n",
       "      <td>0.0</td>\n",
       "      <td>0.0</td>\n",
       "      <td>1.0</td>\n",
       "      <td>1.0</td>\n",
       "      <td>18.477036</td>\n",
       "      <td>318.477051</td>\n",
       "      <td>218.477036</td>\n",
       "      <td>218.477036</td>\n",
       "      <td>18.477036</td>\n",
       "      <td>18.477036</td>\n",
       "      <td>118.477036</td>\n",
       "      <td>118.477036</td>\n",
       "    </tr>\n",
       "    <tr>\n",
       "      <th>4</th>\n",
       "      <td>300004</td>\n",
       "      <td>5.0</td>\n",
       "      <td>2.0</td>\n",
       "      <td>2.0</td>\n",
       "      <td>2.0</td>\n",
       "      <td>0.0</td>\n",
       "      <td>1.0</td>\n",
       "      <td>0.0</td>\n",
       "      <td>0.0</td>\n",
       "      <td>9.907953</td>\n",
       "      <td>509.907959</td>\n",
       "      <td>209.907959</td>\n",
       "      <td>209.907959</td>\n",
       "      <td>9.907953</td>\n",
       "      <td>109.907951</td>\n",
       "      <td>9.907953</td>\n",
       "      <td>9.907953</td>\n",
       "    </tr>\n",
       "  </tbody>\n",
       "</table>\n",
       "</div>"
      ],
      "text/plain": [
       "       id  Brand  Material  Size  Compartments  Laptop Compartment  \\\n",
       "0  300000    4.0       0.0   1.0           2.0                 1.0   \n",
       "1  300001    2.0       1.0   0.0           7.0                 1.0   \n",
       "2  300002    3.0       1.0   2.0           9.0                 1.0   \n",
       "3  300003    3.0       2.0   2.0           1.0                 0.0   \n",
       "4  300004    5.0       2.0   2.0           2.0                 0.0   \n",
       "\n",
       "   Waterproof  Style  Color  Weight Capacity (kg)    Brand_wc  Material_wc  \\\n",
       "0         0.0    0.0    1.0             20.671147  420.671143    20.671146   \n",
       "1         1.0    3.0    1.0             13.564105  213.564102   113.564102   \n",
       "2         1.0    1.0    3.0             11.809799  311.809784   111.809799   \n",
       "3         0.0    1.0    1.0             18.477036  318.477051   218.477036   \n",
       "4         1.0    0.0    0.0              9.907953  509.907959   209.907959   \n",
       "\n",
       "      Size_wc  Laptop Compartment_wc  Waterproof_wc    Style_wc    Color_wc  \n",
       "0  120.671150             120.671150      20.671146   20.671146  120.671150  \n",
       "1   13.564105             113.564102     113.564102  313.564117  113.564102  \n",
       "2  211.809799             111.809799     111.809799  111.809799  311.809784  \n",
       "3  218.477036              18.477036      18.477036  118.477036  118.477036  \n",
       "4  209.907959               9.907953     109.907951    9.907953    9.907953  "
      ]
     },
     "execution_count": 13,
     "metadata": {},
     "output_type": "execute_result"
    }
   ],
   "source": [
    "test.head()"
   ]
  },
  {
   "cell_type": "code",
   "execution_count": 14,
   "id": "5abaf856",
   "metadata": {
    "execution": {
     "iopub.execute_input": "2025-04-14T11:34:18.224508Z",
     "iopub.status.busy": "2025-04-14T11:34:18.224313Z",
     "iopub.status.idle": "2025-04-14T11:34:31.520458Z",
     "shell.execute_reply": "2025-04-14T11:34:31.519776Z"
    },
    "papermill": {
     "duration": 13.303093,
     "end_time": "2025-04-14T11:34:31.522049",
     "exception": false,
     "start_time": "2025-04-14T11:34:18.218956",
     "status": "completed"
    },
    "tags": []
   },
   "outputs": [],
   "source": [
    "from sklearn.model_selection import KFold, cross_val_score\n",
    "from cuml.metrics import mean_squared_error\n",
    "\n",
    "X = train.copy()\n",
    "y = X.pop('Price')\n",
    "X_test = test.copy()\n",
    "\n",
    "n_folds=10\n",
    "\n",
    "kf = KFold(n_splits=n_folds, shuffle=True, random_state=600)\n",
    "\n",
    "for train_index, valid_index in kf.split(X, y):\n",
    "    X_train, X_valid = X.iloc[train_index], X.iloc[valid_index]\n",
    "    y_train, y_valid = y.iloc[train_index], y.iloc[valid_index]"
   ]
  },
  {
   "cell_type": "code",
   "execution_count": 15,
   "id": "844231e1",
   "metadata": {
    "execution": {
     "iopub.execute_input": "2025-04-14T11:34:31.533009Z",
     "iopub.status.busy": "2025-04-14T11:34:31.532492Z",
     "iopub.status.idle": "2025-04-14T11:34:31.550491Z",
     "shell.execute_reply": "2025-04-14T11:34:31.549838Z"
    },
    "papermill": {
     "duration": 0.024876,
     "end_time": "2025-04-14T11:34:31.552050",
     "exception": false,
     "start_time": "2025-04-14T11:34:31.527174",
     "status": "completed"
    },
    "tags": []
   },
   "outputs": [],
   "source": [
    "# Initializing Prediction Arrays\n",
    "oof_xgb = np.zeros(len(y))\n",
    "oof_cat = np.zeros(len(y))\n",
    "oof_lgm = np.zeros(len(y))\n",
    "test_preds_xgb = np.zeros(len(X_test))\n",
    "test_preds_cat = np.zeros(len(X_test))\n",
    "test_preds_lgm = np.zeros(len(X_test))"
   ]
  },
  {
   "cell_type": "code",
   "execution_count": 16,
   "id": "7f40711b",
   "metadata": {
    "execution": {
     "iopub.execute_input": "2025-04-14T11:34:31.562626Z",
     "iopub.status.busy": "2025-04-14T11:34:31.562400Z",
     "iopub.status.idle": "2025-04-14T11:34:59.197578Z",
     "shell.execute_reply": "2025-04-14T11:34:59.196916Z"
    },
    "papermill": {
     "duration": 27.642009,
     "end_time": "2025-04-14T11:34:59.199211",
     "exception": false,
     "start_time": "2025-04-14T11:34:31.557202",
     "status": "completed"
    },
    "tags": []
   },
   "outputs": [],
   "source": [
    "from xgboost import XGBRegressor\n",
    "\n",
    "xgb = XGBRegressor(\n",
    "    n_estimators=1000, \n",
    "    early_stopping_rounds=50, \n",
    "    learning_rate=0.05, \n",
    "    eval_metric='rmse', \n",
    "    max_depth=5, \n",
    "    reg_lambda=8, \n",
    "    device='cuda',\n",
    "    tree_method='gpu_hist', \n",
    ")\n",
    "xgb.fit(\n",
    "    X_train, y_train,\n",
    "    eval_set=[(X_valid, y_valid)],\n",
    "    verbose=False,\n",
    ")\n",
    "xgb_pred = xgb.predict(X_valid)\n",
    "oof_xgb[valid_index] = xgb_pred\n",
    "test_preds_xgb += xgb.predict(X_test) / n_folds"
   ]
  },
  {
   "cell_type": "code",
   "execution_count": 17,
   "id": "e42ecde8",
   "metadata": {
    "execution": {
     "iopub.execute_input": "2025-04-14T11:34:59.210279Z",
     "iopub.status.busy": "2025-04-14T11:34:59.210061Z",
     "iopub.status.idle": "2025-04-14T11:35:34.535382Z",
     "shell.execute_reply": "2025-04-14T11:35:34.534375Z"
    },
    "papermill": {
     "duration": 35.332691,
     "end_time": "2025-04-14T11:35:34.537134",
     "exception": false,
     "start_time": "2025-04-14T11:34:59.204443",
     "status": "completed"
    },
    "tags": []
   },
   "outputs": [],
   "source": [
    "from lightgbm import LGBMRegressor\n",
    "\n",
    "lgm = LGBMRegressor(\n",
    "    n_estimators=1000,\n",
    "    learning_rate=0.05,\n",
    "    reg_lambda=1.05,\n",
    "    min_split_gain=3,\n",
    "    random_state=600,\n",
    "    device='gpu',\n",
    "    early_stopping_rounds=20,\n",
    "    verbose=-1,\n",
    ").fit(X_train, y_train, eval_set=[(X_valid, y_valid)])\n",
    "\n",
    "lgm_pred = lgm.predict(X_valid)\n",
    "oof_lgm[valid_index] = lgm_pred\n",
    "test_preds_lgm += lgm.predict(X_test) / n_folds"
   ]
  },
  {
   "cell_type": "code",
   "execution_count": 18,
   "id": "3b62149e",
   "metadata": {
    "execution": {
     "iopub.execute_input": "2025-04-14T11:35:34.548270Z",
     "iopub.status.busy": "2025-04-14T11:35:34.548005Z",
     "iopub.status.idle": "2025-04-14T11:35:53.318881Z",
     "shell.execute_reply": "2025-04-14T11:35:53.317920Z"
    },
    "papermill": {
     "duration": 18.778035,
     "end_time": "2025-04-14T11:35:53.320526",
     "exception": false,
     "start_time": "2025-04-14T11:35:34.542491",
     "status": "completed"
    },
    "tags": []
   },
   "outputs": [],
   "source": [
    "from catboost import CatBoostRegressor\n",
    "from sklearn.model_selection import cross_val_score\n",
    "\n",
    "cat = CatBoostRegressor(\n",
    "    iterations=1000, \n",
    "    learning_rate=0.05,\n",
    "    depth=7, \n",
    "    l2_leaf_reg=6.1, \n",
    "    task_type='GPU',\n",
    "    devices='0',\n",
    "    early_stopping_rounds=20,\n",
    "    verbose=0,\n",
    "    ).fit(X_train, y_train, eval_set=[(X_valid, y_valid)])\n",
    "\n",
    "cat_pred = cat.predict(X_valid)\n",
    "oof_cat[valid_index] = cat_pred\n",
    "test_preds_cat += cat.predict(X_test) / n_folds"
   ]
  },
  {
   "cell_type": "code",
   "execution_count": 19,
   "id": "eb019c4d",
   "metadata": {
    "execution": {
     "iopub.execute_input": "2025-04-14T11:35:53.331419Z",
     "iopub.status.busy": "2025-04-14T11:35:53.331185Z",
     "iopub.status.idle": "2025-04-14T11:35:54.167440Z",
     "shell.execute_reply": "2025-04-14T11:35:54.166385Z"
    },
    "papermill": {
     "duration": 0.843042,
     "end_time": "2025-04-14T11:35:54.168824",
     "exception": false,
     "start_time": "2025-04-14T11:35:53.325782",
     "status": "completed"
    },
    "tags": []
   },
   "outputs": [
    {
     "name": "stdout",
     "output_type": "stream",
     "text": [
      "XGBoost OOF RMSE: 86.45316157641474\n",
      "LGMBoost OOF RMSE: 86.45305389326865\n",
      "CatBoost OOF RMSE: 86.45329039802161\n"
     ]
    }
   ],
   "source": [
    "print(f'XGBoost OOF RMSE: {np.sqrt(mean_squared_error(y, oof_xgb))}')\n",
    "print(f'LGMBoost OOF RMSE: {np.sqrt(mean_squared_error(y, oof_lgm))}')\n",
    "print(f'CatBoost OOF RMSE: {np.sqrt(mean_squared_error(y, oof_cat))}')"
   ]
  },
  {
   "cell_type": "code",
   "execution_count": 20,
   "id": "7bbd7fbc",
   "metadata": {
    "execution": {
     "iopub.execute_input": "2025-04-14T11:35:54.179380Z",
     "iopub.status.busy": "2025-04-14T11:35:54.179161Z",
     "iopub.status.idle": "2025-04-14T11:35:54.217116Z",
     "shell.execute_reply": "2025-04-14T11:35:54.216496Z"
    },
    "papermill": {
     "duration": 0.044336,
     "end_time": "2025-04-14T11:35:54.218335",
     "exception": false,
     "start_time": "2025-04-14T11:35:54.173999",
     "status": "completed"
    },
    "tags": []
   },
   "outputs": [],
   "source": [
    "meta_train = np.column_stack((oof_xgb, oof_lgm, oof_cat))\n",
    "meta_test = np.column_stack((test_preds_xgb, test_preds_lgm, test_preds_cat))"
   ]
  },
  {
   "cell_type": "code",
   "execution_count": 21,
   "id": "91bee6b5",
   "metadata": {
    "execution": {
     "iopub.execute_input": "2025-04-14T11:35:54.228600Z",
     "iopub.status.busy": "2025-04-14T11:35:54.228393Z",
     "iopub.status.idle": "2025-04-14T11:35:54.870699Z",
     "shell.execute_reply": "2025-04-14T11:35:54.869574Z"
    },
    "papermill": {
     "duration": 0.649054,
     "end_time": "2025-04-14T11:35:54.872250",
     "exception": false,
     "start_time": "2025-04-14T11:35:54.223196",
     "status": "completed"
    },
    "tags": []
   },
   "outputs": [
    {
     "name": "stdout",
     "output_type": "stream",
     "text": [
      "Your submission was successfully saved!\n"
     ]
    }
   ],
   "source": [
    "from sklearn.linear_model import BayesianRidge\n",
    "\n",
    "meta_model = BayesianRidge().fit(meta_train, y)\n",
    "\n",
    "final_preds = meta_model.predict(meta_test)\n",
    "output = pd.DataFrame({'id': test.id, 'price': final_preds})\n",
    "output.to_csv('submission.csv', index=False)\n",
    "print(\"Your submission was successfully saved!\")"
   ]
  }
 ],
 "metadata": {
  "kaggle": {
   "accelerator": "nvidiaTeslaT4",
   "dataSources": [
    {
     "databundleVersionId": 10995111,
     "sourceId": 90274,
     "sourceType": "competition"
    }
   ],
   "dockerImageVersionId": 30918,
   "isGpuEnabled": true,
   "isInternetEnabled": true,
   "language": "python",
   "sourceType": "notebook"
  },
  "kernelspec": {
   "display_name": "Python 3",
   "language": "python",
   "name": "python3"
  },
  "language_info": {
   "codemirror_mode": {
    "name": "ipython",
    "version": 3
   },
   "file_extension": ".py",
   "mimetype": "text/x-python",
   "name": "python",
   "nbconvert_exporter": "python",
   "pygments_lexer": "ipython3",
   "version": "3.10.12"
  },
  "papermill": {
   "default_parameters": {},
   "duration": 144.832191,
   "end_time": "2025-04-14T11:35:57.305540",
   "environment_variables": {},
   "exception": null,
   "input_path": "__notebook__.ipynb",
   "output_path": "__notebook__.ipynb",
   "parameters": {},
   "start_time": "2025-04-14T11:33:32.473349",
   "version": "2.6.0"
  }
 },
 "nbformat": 4,
 "nbformat_minor": 5
}
