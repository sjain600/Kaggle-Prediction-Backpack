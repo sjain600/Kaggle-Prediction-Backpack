{
 "cells": [
  {
   "cell_type": "code",
   "execution_count": 1,
   "id": "3d398a41",
   "metadata": {
    "execution": {
     "iopub.execute_input": "2025-04-16T05:57:44.708932Z",
     "iopub.status.busy": "2025-04-16T05:57:44.708567Z",
     "iopub.status.idle": "2025-04-16T05:57:52.342603Z",
     "shell.execute_reply": "2025-04-16T05:57:52.341444Z"
    },
    "papermill": {
     "duration": 7.642258,
     "end_time": "2025-04-16T05:57:52.344361",
     "exception": false,
     "start_time": "2025-04-16T05:57:44.702103",
     "status": "completed"
    },
    "tags": []
   },
   "outputs": [
    {
     "name": "stdout",
     "output_type": "stream",
     "text": [
      "/kaggle/input/playground-series-s5e2/sample_submission.csv\n",
      "/kaggle/input/playground-series-s5e2/train.csv\n",
      "/kaggle/input/playground-series-s5e2/test.csv\n",
      "/kaggle/input/playground-series-s5e2/training_extra.csv\n"
     ]
    }
   ],
   "source": [
    "%load_ext cudf.pandas\n",
    "import numpy as np # linear algebra\n",
    "import pandas as pd # data processing, CSV file I/O (e.g. pd.read_csv)\n",
    "import matplotlib.pyplot as plt\n",
    "\n",
    "# Input data files are available in the read-only \"../input/\" directory\n",
    "# For example, running this (by clicking run or pressing Shift+Enter) will list all files under the input directory\n",
    "\n",
    "import os\n",
    "for dirname, _, filenames in os.walk('/kaggle/input'):\n",
    "    for filename in filenames:\n",
    "        print(os.path.join(dirname, filename))\n",
    "\n",
    "import warnings\n",
    "warnings.filterwarnings(\"ignore\")\n",
    "\n",
    "# You can write up to 20GB to the current directory (/kaggle/working/) that gets preserved as output when you create a version using \"Save & Run All\" \n",
    "# You can also write temporary files to /kaggle/temp/, but they won't be saved outside of the current session\n"
   ]
  },
  {
   "cell_type": "code",
   "execution_count": 2,
   "id": "3c7b7d92",
   "metadata": {
    "execution": {
     "iopub.execute_input": "2025-04-16T05:57:52.356870Z",
     "iopub.status.busy": "2025-04-16T05:57:52.356431Z",
     "iopub.status.idle": "2025-04-16T05:57:54.407550Z",
     "shell.execute_reply": "2025-04-16T05:57:54.406768Z"
    },
    "papermill": {
     "duration": 2.058762,
     "end_time": "2025-04-16T05:57:54.409030",
     "exception": false,
     "start_time": "2025-04-16T05:57:52.350268",
     "status": "completed"
    },
    "tags": []
   },
   "outputs": [],
   "source": [
    "train = pd.read_csv('/kaggle/input/playground-series-s5e2/train.csv')\n",
    "train_extra = pd.read_csv('/kaggle/input/playground-series-s5e2/training_extra.csv')\n",
    "test = pd.read_csv('/kaggle/input/playground-series-s5e2/test.csv')"
   ]
  },
  {
   "cell_type": "code",
   "execution_count": 3,
   "id": "0b1942ad",
   "metadata": {
    "execution": {
     "iopub.execute_input": "2025-04-16T05:57:54.420612Z",
     "iopub.status.busy": "2025-04-16T05:57:54.420365Z",
     "iopub.status.idle": "2025-04-16T05:57:54.473479Z",
     "shell.execute_reply": "2025-04-16T05:57:54.472839Z"
    },
    "papermill": {
     "duration": 0.059837,
     "end_time": "2025-04-16T05:57:54.474622",
     "exception": false,
     "start_time": "2025-04-16T05:57:54.414785",
     "status": "completed"
    },
    "tags": []
   },
   "outputs": [],
   "source": [
    "train = pd.concat([train, train_extra], axis=0, ignore_index=True)"
   ]
  },
  {
   "cell_type": "markdown",
   "id": "8f6e9fca",
   "metadata": {
    "papermill": {
     "duration": 0.005441,
     "end_time": "2025-04-16T05:57:54.485267",
     "exception": false,
     "start_time": "2025-04-16T05:57:54.479826",
     "status": "completed"
    },
    "tags": []
   },
   "source": [
    "## Data Understanding"
   ]
  },
  {
   "cell_type": "code",
   "execution_count": 4,
   "id": "48bd60ad",
   "metadata": {
    "execution": {
     "iopub.execute_input": "2025-04-16T05:57:54.496212Z",
     "iopub.status.busy": "2025-04-16T05:57:54.495913Z",
     "iopub.status.idle": "2025-04-16T05:57:54.557495Z",
     "shell.execute_reply": "2025-04-16T05:57:54.556435Z"
    },
    "papermill": {
     "duration": 0.068706,
     "end_time": "2025-04-16T05:57:54.559088",
     "exception": false,
     "start_time": "2025-04-16T05:57:54.490382",
     "status": "completed"
    },
    "tags": []
   },
   "outputs": [
    {
     "name": "stdout",
     "output_type": "stream",
     "text": [
      "<class 'cudf.core.dataframe.DataFrame'>\n",
      "RangeIndex: 3994318 entries, 0 to 3994317\n",
      "Data columns (total 11 columns):\n",
      " #   Column                Dtype\n",
      "---  ------                -----\n",
      " 0   id                    int64\n",
      " 1   Brand                 object\n",
      " 2   Material              object\n",
      " 3   Size                  object\n",
      " 4   Compartments          float64\n",
      " 5   Laptop Compartment    object\n",
      " 6   Waterproof            object\n",
      " 7   Style                 object\n",
      " 8   Color                 object\n",
      " 9   Weight Capacity (kg)  float64\n",
      " 10  Price                 float64\n",
      "dtypes: float64(3), int64(1), object(7)\n",
      "memory usage: 362.7+ MB\n"
     ]
    }
   ],
   "source": [
    "train.info()"
   ]
  },
  {
   "cell_type": "code",
   "execution_count": 5,
   "id": "0361e188",
   "metadata": {
    "execution": {
     "iopub.execute_input": "2025-04-16T05:57:54.570500Z",
     "iopub.status.busy": "2025-04-16T05:57:54.570269Z",
     "iopub.status.idle": "2025-04-16T05:57:55.746190Z",
     "shell.execute_reply": "2025-04-16T05:57:55.745216Z"
    },
    "papermill": {
     "duration": 1.182954,
     "end_time": "2025-04-16T05:57:55.747628",
     "exception": false,
     "start_time": "2025-04-16T05:57:54.564674",
     "status": "completed"
    },
    "tags": []
   },
   "outputs": [
    {
     "data": {
      "text/html": [
       "<div>\n",
       "<style scoped>\n",
       "    .dataframe tbody tr th:only-of-type {\n",
       "        vertical-align: middle;\n",
       "    }\n",
       "\n",
       "    .dataframe tbody tr th {\n",
       "        vertical-align: top;\n",
       "    }\n",
       "\n",
       "    .dataframe thead th {\n",
       "        text-align: right;\n",
       "    }\n",
       "</style>\n",
       "<table border=\"1\" class=\"dataframe\">\n",
       "  <thead>\n",
       "    <tr style=\"text-align: right;\">\n",
       "      <th></th>\n",
       "      <th>id</th>\n",
       "      <th>Compartments</th>\n",
       "      <th>Weight Capacity (kg)</th>\n",
       "      <th>Price</th>\n",
       "    </tr>\n",
       "  </thead>\n",
       "  <tbody>\n",
       "    <tr>\n",
       "      <th>count</th>\n",
       "      <td>3.994318e+06</td>\n",
       "      <td>3.994318e+06</td>\n",
       "      <td>3.992510e+06</td>\n",
       "      <td>3.994318e+06</td>\n",
       "    </tr>\n",
       "    <tr>\n",
       "      <th>mean</th>\n",
       "      <td>2.182137e+06</td>\n",
       "      <td>5.434740e+00</td>\n",
       "      <td>1.801042e+01</td>\n",
       "      <td>8.136217e+01</td>\n",
       "    </tr>\n",
       "    <tr>\n",
       "      <th>std</th>\n",
       "      <td>1.178058e+06</td>\n",
       "      <td>2.893043e+00</td>\n",
       "      <td>6.973969e+00</td>\n",
       "      <td>3.893868e+01</td>\n",
       "    </tr>\n",
       "    <tr>\n",
       "      <th>min</th>\n",
       "      <td>0.000000e+00</td>\n",
       "      <td>1.000000e+00</td>\n",
       "      <td>5.000000e+00</td>\n",
       "      <td>1.500000e+01</td>\n",
       "    </tr>\n",
       "    <tr>\n",
       "      <th>25%</th>\n",
       "      <td>1.198579e+06</td>\n",
       "      <td>3.000000e+00</td>\n",
       "      <td>1.206896e+01</td>\n",
       "      <td>4.747002e+01</td>\n",
       "    </tr>\n",
       "    <tr>\n",
       "      <th>50%</th>\n",
       "      <td>2.197158e+06</td>\n",
       "      <td>5.000000e+00</td>\n",
       "      <td>1.805436e+01</td>\n",
       "      <td>8.098495e+01</td>\n",
       "    </tr>\n",
       "    <tr>\n",
       "      <th>75%</th>\n",
       "      <td>3.195738e+06</td>\n",
       "      <td>8.000000e+00</td>\n",
       "      <td>2.398750e+01</td>\n",
       "      <td>1.148550e+02</td>\n",
       "    </tr>\n",
       "    <tr>\n",
       "      <th>max</th>\n",
       "      <td>4.194317e+06</td>\n",
       "      <td>1.000000e+01</td>\n",
       "      <td>3.000000e+01</td>\n",
       "      <td>1.500000e+02</td>\n",
       "    </tr>\n",
       "  </tbody>\n",
       "</table>\n",
       "</div>"
      ],
      "text/plain": [
       "                 id  Compartments  Weight Capacity (kg)         Price\n",
       "count  3.994318e+06  3.994318e+06          3.992510e+06  3.994318e+06\n",
       "mean   2.182137e+06  5.434740e+00          1.801042e+01  8.136217e+01\n",
       "std    1.178058e+06  2.893043e+00          6.973969e+00  3.893868e+01\n",
       "min    0.000000e+00  1.000000e+00          5.000000e+00  1.500000e+01\n",
       "25%    1.198579e+06  3.000000e+00          1.206896e+01  4.747002e+01\n",
       "50%    2.197158e+06  5.000000e+00          1.805436e+01  8.098495e+01\n",
       "75%    3.195738e+06  8.000000e+00          2.398750e+01  1.148550e+02\n",
       "max    4.194317e+06  1.000000e+01          3.000000e+01  1.500000e+02"
      ]
     },
     "execution_count": 5,
     "metadata": {},
     "output_type": "execute_result"
    }
   ],
   "source": [
    "train.describe()"
   ]
  },
  {
   "cell_type": "code",
   "execution_count": 6,
   "id": "5c8db4cf",
   "metadata": {
    "execution": {
     "iopub.execute_input": "2025-04-16T05:57:55.759341Z",
     "iopub.status.busy": "2025-04-16T05:57:55.759109Z",
     "iopub.status.idle": "2025-04-16T05:57:55.819492Z",
     "shell.execute_reply": "2025-04-16T05:57:55.818188Z"
    },
    "papermill": {
     "duration": 0.067643,
     "end_time": "2025-04-16T05:57:55.821039",
     "exception": false,
     "start_time": "2025-04-16T05:57:55.753396",
     "status": "completed"
    },
    "tags": []
   },
   "outputs": [
    {
     "name": "stdout",
     "output_type": "stream",
     "text": [
      "Any missing for train df\n",
      "id                           0\n",
      "Brand                   126758\n",
      "Material                110962\n",
      "Size                     87785\n",
      "Compartments                 0\n",
      "Laptop Compartment       98533\n",
      "Waterproof               94324\n",
      "Style                   104180\n",
      "Color                   133617\n",
      "Weight Capacity (kg)      1808\n",
      "Price                        0\n",
      "dtype: int64\n",
      "\n",
      "Any missing for test df\n",
      "id                         0\n",
      "Brand                   6227\n",
      "Material                5613\n",
      "Size                    4381\n",
      "Compartments               0\n",
      "Laptop Compartment      4962\n",
      "Waterproof              4811\n",
      "Style                   5153\n",
      "Color                   6785\n",
      "Weight Capacity (kg)      77\n",
      "dtype: int64\n"
     ]
    }
   ],
   "source": [
    "print('Any missing for train df')\n",
    "print(train.isnull().sum())\n",
    "\n",
    "print(f'\\nAny missing for test df')\n",
    "print(test.isnull().sum())"
   ]
  },
  {
   "cell_type": "code",
   "execution_count": 7,
   "id": "333d5736",
   "metadata": {
    "execution": {
     "iopub.execute_input": "2025-04-16T05:57:55.832625Z",
     "iopub.status.busy": "2025-04-16T05:57:55.832377Z",
     "iopub.status.idle": "2025-04-16T05:57:56.346609Z",
     "shell.execute_reply": "2025-04-16T05:57:56.345669Z"
    },
    "papermill": {
     "duration": 0.521728,
     "end_time": "2025-04-16T05:57:56.348149",
     "exception": false,
     "start_time": "2025-04-16T05:57:55.826421",
     "status": "completed"
    },
    "tags": []
   },
   "outputs": [
    {
     "data": {
      "text/html": [
       "<div>\n",
       "<style scoped>\n",
       "    .dataframe tbody tr th:only-of-type {\n",
       "        vertical-align: middle;\n",
       "    }\n",
       "\n",
       "    .dataframe tbody tr th {\n",
       "        vertical-align: top;\n",
       "    }\n",
       "\n",
       "    .dataframe thead th {\n",
       "        text-align: right;\n",
       "    }\n",
       "</style>\n",
       "<table border=\"1\" class=\"dataframe\">\n",
       "  <thead>\n",
       "    <tr style=\"text-align: right;\">\n",
       "      <th></th>\n",
       "      <th>id</th>\n",
       "      <th>Brand</th>\n",
       "      <th>Material</th>\n",
       "      <th>Size</th>\n",
       "      <th>Compartments</th>\n",
       "      <th>Laptop Compartment</th>\n",
       "      <th>Waterproof</th>\n",
       "      <th>Style</th>\n",
       "      <th>Color</th>\n",
       "      <th>Weight Capacity (kg)</th>\n",
       "      <th>Price</th>\n",
       "    </tr>\n",
       "  </thead>\n",
       "  <tbody>\n",
       "    <tr>\n",
       "      <th>2872222</th>\n",
       "      <td>3072222</td>\n",
       "      <td>Puma</td>\n",
       "      <td>Canvas</td>\n",
       "      <td>Large</td>\n",
       "      <td>3.0</td>\n",
       "      <td>Yes</td>\n",
       "      <td>No</td>\n",
       "      <td>Messenger</td>\n",
       "      <td>Black</td>\n",
       "      <td>8.901601</td>\n",
       "      <td>77.03475</td>\n",
       "    </tr>\n",
       "    <tr>\n",
       "      <th>3343621</th>\n",
       "      <td>3543621</td>\n",
       "      <td>Jansport</td>\n",
       "      <td>Nylon</td>\n",
       "      <td>Small</td>\n",
       "      <td>3.0</td>\n",
       "      <td>No</td>\n",
       "      <td>No</td>\n",
       "      <td>Messenger</td>\n",
       "      <td>Red</td>\n",
       "      <td>26.822771</td>\n",
       "      <td>103.69330</td>\n",
       "    </tr>\n",
       "    <tr>\n",
       "      <th>3672018</th>\n",
       "      <td>3872018</td>\n",
       "      <td>Adidas</td>\n",
       "      <td>Polyester</td>\n",
       "      <td>&lt;NA&gt;</td>\n",
       "      <td>8.0</td>\n",
       "      <td>No</td>\n",
       "      <td>No</td>\n",
       "      <td>Tote</td>\n",
       "      <td>Pink</td>\n",
       "      <td>8.547665</td>\n",
       "      <td>16.31408</td>\n",
       "    </tr>\n",
       "    <tr>\n",
       "      <th>1872779</th>\n",
       "      <td>2072779</td>\n",
       "      <td>Adidas</td>\n",
       "      <td>Canvas</td>\n",
       "      <td>Large</td>\n",
       "      <td>1.0</td>\n",
       "      <td>Yes</td>\n",
       "      <td>Yes</td>\n",
       "      <td>Tote</td>\n",
       "      <td>Black</td>\n",
       "      <td>18.924587</td>\n",
       "      <td>118.01957</td>\n",
       "    </tr>\n",
       "    <tr>\n",
       "      <th>2414499</th>\n",
       "      <td>2614499</td>\n",
       "      <td>Under Armour</td>\n",
       "      <td>Polyester</td>\n",
       "      <td>Large</td>\n",
       "      <td>1.0</td>\n",
       "      <td>No</td>\n",
       "      <td>Yes</td>\n",
       "      <td>Messenger</td>\n",
       "      <td>Gray</td>\n",
       "      <td>28.075813</td>\n",
       "      <td>134.22741</td>\n",
       "    </tr>\n",
       "    <tr>\n",
       "      <th>3417038</th>\n",
       "      <td>3617038</td>\n",
       "      <td>Puma</td>\n",
       "      <td>&lt;NA&gt;</td>\n",
       "      <td>Large</td>\n",
       "      <td>6.0</td>\n",
       "      <td>Yes</td>\n",
       "      <td>No</td>\n",
       "      <td>Messenger</td>\n",
       "      <td>Black</td>\n",
       "      <td>24.203744</td>\n",
       "      <td>65.73514</td>\n",
       "    </tr>\n",
       "    <tr>\n",
       "      <th>3366859</th>\n",
       "      <td>3566859</td>\n",
       "      <td>Under Armour</td>\n",
       "      <td>Leather</td>\n",
       "      <td>Small</td>\n",
       "      <td>5.0</td>\n",
       "      <td>Yes</td>\n",
       "      <td>Yes</td>\n",
       "      <td>Backpack</td>\n",
       "      <td>Green</td>\n",
       "      <td>18.039189</td>\n",
       "      <td>105.69786</td>\n",
       "    </tr>\n",
       "    <tr>\n",
       "      <th>2204959</th>\n",
       "      <td>2404959</td>\n",
       "      <td>Nike</td>\n",
       "      <td>Canvas</td>\n",
       "      <td>Medium</td>\n",
       "      <td>6.0</td>\n",
       "      <td>Yes</td>\n",
       "      <td>No</td>\n",
       "      <td>Messenger</td>\n",
       "      <td>Gray</td>\n",
       "      <td>9.267440</td>\n",
       "      <td>48.43761</td>\n",
       "    </tr>\n",
       "    <tr>\n",
       "      <th>1652492</th>\n",
       "      <td>1852492</td>\n",
       "      <td>Adidas</td>\n",
       "      <td>Leather</td>\n",
       "      <td>Medium</td>\n",
       "      <td>5.0</td>\n",
       "      <td>No</td>\n",
       "      <td>No</td>\n",
       "      <td>Messenger</td>\n",
       "      <td>Blue</td>\n",
       "      <td>8.077984</td>\n",
       "      <td>112.20473</td>\n",
       "    </tr>\n",
       "    <tr>\n",
       "      <th>1679935</th>\n",
       "      <td>1879935</td>\n",
       "      <td>Nike</td>\n",
       "      <td>Canvas</td>\n",
       "      <td>Medium</td>\n",
       "      <td>9.0</td>\n",
       "      <td>Yes</td>\n",
       "      <td>No</td>\n",
       "      <td>Messenger</td>\n",
       "      <td>Gray</td>\n",
       "      <td>17.928655</td>\n",
       "      <td>97.64603</td>\n",
       "    </tr>\n",
       "  </tbody>\n",
       "</table>\n",
       "</div>"
      ],
      "text/plain": [
       "              id         Brand   Material    Size  Compartments  \\\n",
       "2872222  3072222          Puma     Canvas   Large           3.0   \n",
       "3343621  3543621      Jansport      Nylon   Small           3.0   \n",
       "3672018  3872018        Adidas  Polyester    <NA>           8.0   \n",
       "1872779  2072779        Adidas     Canvas   Large           1.0   \n",
       "2414499  2614499  Under Armour  Polyester   Large           1.0   \n",
       "3417038  3617038          Puma       <NA>   Large           6.0   \n",
       "3366859  3566859  Under Armour    Leather   Small           5.0   \n",
       "2204959  2404959          Nike     Canvas  Medium           6.0   \n",
       "1652492  1852492        Adidas    Leather  Medium           5.0   \n",
       "1679935  1879935          Nike     Canvas  Medium           9.0   \n",
       "\n",
       "        Laptop Compartment Waterproof      Style  Color  Weight Capacity (kg)  \\\n",
       "2872222                Yes         No  Messenger  Black              8.901601   \n",
       "3343621                 No         No  Messenger    Red             26.822771   \n",
       "3672018                 No         No       Tote   Pink              8.547665   \n",
       "1872779                Yes        Yes       Tote  Black             18.924587   \n",
       "2414499                 No        Yes  Messenger   Gray             28.075813   \n",
       "3417038                Yes         No  Messenger  Black             24.203744   \n",
       "3366859                Yes        Yes   Backpack  Green             18.039189   \n",
       "2204959                Yes         No  Messenger   Gray              9.267440   \n",
       "1652492                 No         No  Messenger   Blue              8.077984   \n",
       "1679935                Yes         No  Messenger   Gray             17.928655   \n",
       "\n",
       "             Price  \n",
       "2872222   77.03475  \n",
       "3343621  103.69330  \n",
       "3672018   16.31408  \n",
       "1872779  118.01957  \n",
       "2414499  134.22741  \n",
       "3417038   65.73514  \n",
       "3366859  105.69786  \n",
       "2204959   48.43761  \n",
       "1652492  112.20473  \n",
       "1679935   97.64603  "
      ]
     },
     "execution_count": 7,
     "metadata": {},
     "output_type": "execute_result"
    }
   ],
   "source": [
    "train.sample(10)"
   ]
  },
  {
   "cell_type": "markdown",
   "id": "f2e0b639",
   "metadata": {
    "papermill": {
     "duration": 0.005562,
     "end_time": "2025-04-16T05:57:56.359914",
     "exception": false,
     "start_time": "2025-04-16T05:57:56.354352",
     "status": "completed"
    },
    "tags": []
   },
   "source": [
    "## Data Preparation"
   ]
  },
  {
   "cell_type": "code",
   "execution_count": 8,
   "id": "1d25f5aa",
   "metadata": {
    "execution": {
     "iopub.execute_input": "2025-04-16T05:57:56.371696Z",
     "iopub.status.busy": "2025-04-16T05:57:56.371427Z",
     "iopub.status.idle": "2025-04-16T05:57:56.378770Z",
     "shell.execute_reply": "2025-04-16T05:57:56.378013Z"
    },
    "papermill": {
     "duration": 0.014775,
     "end_time": "2025-04-16T05:57:56.380184",
     "exception": false,
     "start_time": "2025-04-16T05:57:56.365409",
     "status": "completed"
    },
    "tags": []
   },
   "outputs": [],
   "source": [
    "train = train.rename(columns={'Laptop Compartment': 'Laptop_Compartment',\n",
    "                     'Weight Capacity (kg)': 'Weight_Capacity'})\n",
    "test = test.rename(columns={'Laptop Compartment': 'Laptop_Compartment',\n",
    "                     'Weight Capacity (kg)': 'Weight_Capacity'})"
   ]
  },
  {
   "cell_type": "code",
   "execution_count": 9,
   "id": "72d56146",
   "metadata": {
    "execution": {
     "iopub.execute_input": "2025-04-16T05:57:56.392156Z",
     "iopub.status.busy": "2025-04-16T05:57:56.391904Z",
     "iopub.status.idle": "2025-04-16T05:58:11.421482Z",
     "shell.execute_reply": "2025-04-16T05:58:11.420713Z"
    },
    "papermill": {
     "duration": 15.037255,
     "end_time": "2025-04-16T05:58:11.423182",
     "exception": false,
     "start_time": "2025-04-16T05:57:56.385927",
     "status": "completed"
    },
    "tags": []
   },
   "outputs": [],
   "source": [
    "from sklearn.impute import SimpleImputer\n",
    "\n",
    "numerical_cols = test.select_dtypes(include=['float64']).columns\n",
    "impute = SimpleImputer(strategy='median')\n",
    "train[numerical_cols] = impute.fit_transform(train[numerical_cols])\n",
    "test[numerical_cols] = impute.fit_transform(test[numerical_cols])"
   ]
  },
  {
   "cell_type": "code",
   "execution_count": 10,
   "id": "4d7cc39d",
   "metadata": {
    "execution": {
     "iopub.execute_input": "2025-04-16T05:58:11.435935Z",
     "iopub.status.busy": "2025-04-16T05:58:11.435534Z",
     "iopub.status.idle": "2025-04-16T05:58:31.899260Z",
     "shell.execute_reply": "2025-04-16T05:58:31.898189Z"
    },
    "papermill": {
     "duration": 20.471747,
     "end_time": "2025-04-16T05:58:31.900998",
     "exception": false,
     "start_time": "2025-04-16T05:58:11.429251",
     "status": "completed"
    },
    "tags": []
   },
   "outputs": [],
   "source": [
    "cat_cols = train.select_dtypes(include=['object']).columns\n",
    "train[cat_cols] = train[cat_cols].fillna('unknown')\n",
    "test[cat_cols] = test[cat_cols].fillna('unknown')"
   ]
  },
  {
   "cell_type": "markdown",
   "id": "fc5368ac",
   "metadata": {
    "papermill": {
     "duration": 0.005219,
     "end_time": "2025-04-16T05:58:31.912448",
     "exception": false,
     "start_time": "2025-04-16T05:58:31.907229",
     "status": "completed"
    },
    "tags": []
   },
   "source": [
    "## Feature Engineering"
   ]
  },
  {
   "cell_type": "code",
   "execution_count": 11,
   "id": "36151abf",
   "metadata": {
    "execution": {
     "iopub.execute_input": "2025-04-16T05:58:31.924498Z",
     "iopub.status.busy": "2025-04-16T05:58:31.924201Z",
     "iopub.status.idle": "2025-04-16T05:58:32.627108Z",
     "shell.execute_reply": "2025-04-16T05:58:32.626150Z"
    },
    "papermill": {
     "duration": 0.711,
     "end_time": "2025-04-16T05:58:32.628898",
     "exception": false,
     "start_time": "2025-04-16T05:58:31.917898",
     "status": "completed"
    },
    "tags": []
   },
   "outputs": [],
   "source": [
    "for i, c in enumerate(cat_cols):\n",
    "    combine = pd.concat([train[c], test[c]], axis=0)\n",
    "    combine, _ = pd.factorize(combine)\n",
    "    train[c] = combine[:len(train)].astype('float32')\n",
    "    test[c] = combine[len(train):].astype('float32')\n",
    "    n = f'{c}_wc'\n",
    "    train[n] = (train[c] * 100 + train['Weight_Capacity']).astype('float32')\n",
    "    test[n] = (test[c] * 100 + test['Weight_Capacity']).astype('float32')"
   ]
  },
  {
   "cell_type": "markdown",
   "id": "5a44124d",
   "metadata": {
    "papermill": {
     "duration": 0.005345,
     "end_time": "2025-04-16T05:58:32.640160",
     "exception": false,
     "start_time": "2025-04-16T05:58:32.634815",
     "status": "completed"
    },
    "tags": []
   },
   "source": [
    "# Checking to make sure that the data type for newly created features are float32"
   ]
  },
  {
   "cell_type": "code",
   "execution_count": 12,
   "id": "626f3f92",
   "metadata": {
    "execution": {
     "iopub.execute_input": "2025-04-16T05:58:32.651679Z",
     "iopub.status.busy": "2025-04-16T05:58:32.651441Z",
     "iopub.status.idle": "2025-04-16T05:58:32.665507Z",
     "shell.execute_reply": "2025-04-16T05:58:32.664295Z"
    },
    "papermill": {
     "duration": 0.021085,
     "end_time": "2025-04-16T05:58:32.666627",
     "exception": false,
     "start_time": "2025-04-16T05:58:32.645542",
     "status": "completed"
    },
    "tags": []
   },
   "outputs": [
    {
     "name": "stdout",
     "output_type": "stream",
     "text": [
      "<class 'cudf.core.dataframe.DataFrame'>\n",
      "RangeIndex: 3994318 entries, 0 to 3994317\n",
      "Data columns (total 18 columns):\n",
      " #   Column                 Dtype\n",
      "---  ------                 -----\n",
      " 0   id                     int64\n",
      " 1   Brand                  float32\n",
      " 2   Material               float32\n",
      " 3   Size                   float32\n",
      " 4   Compartments           float64\n",
      " 5   Laptop_Compartment     float32\n",
      " 6   Waterproof             float32\n",
      " 7   Style                  float32\n",
      " 8   Color                  float32\n",
      " 9   Weight_Capacity        float64\n",
      " 10  Price                  float64\n",
      " 11  Brand_wc               float32\n",
      " 12  Material_wc            float32\n",
      " 13  Size_wc                float32\n",
      " 14  Laptop_Compartment_wc  float32\n",
      " 15  Waterproof_wc          float32\n",
      " 16  Style_wc               float32\n",
      " 17  Color_wc               float32\n",
      "dtypes: float32(14), float64(3), int64(1)\n",
      "memory usage: 335.2 MB\n"
     ]
    }
   ],
   "source": [
    "train.info()"
   ]
  },
  {
   "cell_type": "code",
   "execution_count": 13,
   "id": "22e39fa7",
   "metadata": {
    "execution": {
     "iopub.execute_input": "2025-04-16T05:58:32.678657Z",
     "iopub.status.busy": "2025-04-16T05:58:32.678430Z",
     "iopub.status.idle": "2025-04-16T05:58:32.703611Z",
     "shell.execute_reply": "2025-04-16T05:58:32.702434Z"
    },
    "papermill": {
     "duration": 0.033001,
     "end_time": "2025-04-16T05:58:32.705215",
     "exception": false,
     "start_time": "2025-04-16T05:58:32.672214",
     "status": "completed"
    },
    "tags": []
   },
   "outputs": [
    {
     "name": "stdout",
     "output_type": "stream",
     "text": [
      "<class 'cudf.core.dataframe.DataFrame'>\n",
      "RangeIndex: 200000 entries, 0 to 199999\n",
      "Data columns (total 17 columns):\n",
      " #   Column                 Non-Null Count   Dtype\n",
      "---  ------                 --------------   -----\n",
      " 0   id                     200000 non-null  int64\n",
      " 1   Brand                  200000 non-null  float32\n",
      " 2   Material               200000 non-null  float32\n",
      " 3   Size                   200000 non-null  float32\n",
      " 4   Compartments           200000 non-null  float64\n",
      " 5   Laptop_Compartment     200000 non-null  float32\n",
      " 6   Waterproof             200000 non-null  float32\n",
      " 7   Style                  200000 non-null  float32\n",
      " 8   Color                  200000 non-null  float32\n",
      " 9   Weight_Capacity        200000 non-null  float64\n",
      " 10  Brand_wc               200000 non-null  float32\n",
      " 11  Material_wc            200000 non-null  float32\n",
      " 12  Size_wc                200000 non-null  float32\n",
      " 13  Laptop_Compartment_wc  200000 non-null  float32\n",
      " 14  Waterproof_wc          200000 non-null  float32\n",
      " 15  Style_wc               200000 non-null  float32\n",
      " 16  Color_wc               200000 non-null  float32\n",
      "dtypes: float32(14), float64(2), int64(1)\n",
      "memory usage: 15.3 MB\n"
     ]
    }
   ],
   "source": [
    "test.info()"
   ]
  },
  {
   "cell_type": "code",
   "execution_count": 14,
   "id": "082b5130",
   "metadata": {
    "execution": {
     "iopub.execute_input": "2025-04-16T05:58:32.718977Z",
     "iopub.status.busy": "2025-04-16T05:58:32.718676Z",
     "iopub.status.idle": "2025-04-16T05:58:32.751377Z",
     "shell.execute_reply": "2025-04-16T05:58:32.750595Z"
    },
    "papermill": {
     "duration": 0.041481,
     "end_time": "2025-04-16T05:58:32.752868",
     "exception": false,
     "start_time": "2025-04-16T05:58:32.711387",
     "status": "completed"
    },
    "tags": []
   },
   "outputs": [
    {
     "data": {
      "text/html": [
       "<div>\n",
       "<style scoped>\n",
       "    .dataframe tbody tr th:only-of-type {\n",
       "        vertical-align: middle;\n",
       "    }\n",
       "\n",
       "    .dataframe tbody tr th {\n",
       "        vertical-align: top;\n",
       "    }\n",
       "\n",
       "    .dataframe thead th {\n",
       "        text-align: right;\n",
       "    }\n",
       "</style>\n",
       "<table border=\"1\" class=\"dataframe\">\n",
       "  <thead>\n",
       "    <tr style=\"text-align: right;\">\n",
       "      <th></th>\n",
       "      <th>id</th>\n",
       "      <th>Brand</th>\n",
       "      <th>Material</th>\n",
       "      <th>Size</th>\n",
       "      <th>Compartments</th>\n",
       "      <th>Laptop_Compartment</th>\n",
       "      <th>Waterproof</th>\n",
       "      <th>Style</th>\n",
       "      <th>Color</th>\n",
       "      <th>Weight_Capacity</th>\n",
       "      <th>Brand_wc</th>\n",
       "      <th>Material_wc</th>\n",
       "      <th>Size_wc</th>\n",
       "      <th>Laptop_Compartment_wc</th>\n",
       "      <th>Waterproof_wc</th>\n",
       "      <th>Style_wc</th>\n",
       "      <th>Color_wc</th>\n",
       "    </tr>\n",
       "  </thead>\n",
       "  <tbody>\n",
       "    <tr>\n",
       "      <th>0</th>\n",
       "      <td>300000</td>\n",
       "      <td>4.0</td>\n",
       "      <td>0.0</td>\n",
       "      <td>1.0</td>\n",
       "      <td>2.0</td>\n",
       "      <td>1.0</td>\n",
       "      <td>0.0</td>\n",
       "      <td>0.0</td>\n",
       "      <td>1.0</td>\n",
       "      <td>20.671147</td>\n",
       "      <td>420.671143</td>\n",
       "      <td>20.671146</td>\n",
       "      <td>120.671150</td>\n",
       "      <td>120.671150</td>\n",
       "      <td>20.671146</td>\n",
       "      <td>20.671146</td>\n",
       "      <td>120.671150</td>\n",
       "    </tr>\n",
       "    <tr>\n",
       "      <th>1</th>\n",
       "      <td>300001</td>\n",
       "      <td>2.0</td>\n",
       "      <td>1.0</td>\n",
       "      <td>0.0</td>\n",
       "      <td>7.0</td>\n",
       "      <td>1.0</td>\n",
       "      <td>1.0</td>\n",
       "      <td>3.0</td>\n",
       "      <td>1.0</td>\n",
       "      <td>13.564105</td>\n",
       "      <td>213.564102</td>\n",
       "      <td>113.564102</td>\n",
       "      <td>13.564105</td>\n",
       "      <td>113.564102</td>\n",
       "      <td>113.564102</td>\n",
       "      <td>313.564117</td>\n",
       "      <td>113.564102</td>\n",
       "    </tr>\n",
       "    <tr>\n",
       "      <th>2</th>\n",
       "      <td>300002</td>\n",
       "      <td>3.0</td>\n",
       "      <td>1.0</td>\n",
       "      <td>2.0</td>\n",
       "      <td>9.0</td>\n",
       "      <td>1.0</td>\n",
       "      <td>1.0</td>\n",
       "      <td>1.0</td>\n",
       "      <td>3.0</td>\n",
       "      <td>11.809799</td>\n",
       "      <td>311.809784</td>\n",
       "      <td>111.809799</td>\n",
       "      <td>211.809799</td>\n",
       "      <td>111.809799</td>\n",
       "      <td>111.809799</td>\n",
       "      <td>111.809799</td>\n",
       "      <td>311.809784</td>\n",
       "    </tr>\n",
       "    <tr>\n",
       "      <th>3</th>\n",
       "      <td>300003</td>\n",
       "      <td>3.0</td>\n",
       "      <td>2.0</td>\n",
       "      <td>2.0</td>\n",
       "      <td>1.0</td>\n",
       "      <td>0.0</td>\n",
       "      <td>0.0</td>\n",
       "      <td>1.0</td>\n",
       "      <td>1.0</td>\n",
       "      <td>18.477036</td>\n",
       "      <td>318.477051</td>\n",
       "      <td>218.477036</td>\n",
       "      <td>218.477036</td>\n",
       "      <td>18.477036</td>\n",
       "      <td>18.477036</td>\n",
       "      <td>118.477036</td>\n",
       "      <td>118.477036</td>\n",
       "    </tr>\n",
       "    <tr>\n",
       "      <th>4</th>\n",
       "      <td>300004</td>\n",
       "      <td>5.0</td>\n",
       "      <td>2.0</td>\n",
       "      <td>2.0</td>\n",
       "      <td>2.0</td>\n",
       "      <td>0.0</td>\n",
       "      <td>1.0</td>\n",
       "      <td>0.0</td>\n",
       "      <td>0.0</td>\n",
       "      <td>9.907953</td>\n",
       "      <td>509.907959</td>\n",
       "      <td>209.907959</td>\n",
       "      <td>209.907959</td>\n",
       "      <td>9.907953</td>\n",
       "      <td>109.907951</td>\n",
       "      <td>9.907953</td>\n",
       "      <td>9.907953</td>\n",
       "    </tr>\n",
       "  </tbody>\n",
       "</table>\n",
       "</div>"
      ],
      "text/plain": [
       "       id  Brand  Material  Size  Compartments  Laptop_Compartment  \\\n",
       "0  300000    4.0       0.0   1.0           2.0                 1.0   \n",
       "1  300001    2.0       1.0   0.0           7.0                 1.0   \n",
       "2  300002    3.0       1.0   2.0           9.0                 1.0   \n",
       "3  300003    3.0       2.0   2.0           1.0                 0.0   \n",
       "4  300004    5.0       2.0   2.0           2.0                 0.0   \n",
       "\n",
       "   Waterproof  Style  Color  Weight_Capacity    Brand_wc  Material_wc  \\\n",
       "0         0.0    0.0    1.0        20.671147  420.671143    20.671146   \n",
       "1         1.0    3.0    1.0        13.564105  213.564102   113.564102   \n",
       "2         1.0    1.0    3.0        11.809799  311.809784   111.809799   \n",
       "3         0.0    1.0    1.0        18.477036  318.477051   218.477036   \n",
       "4         1.0    0.0    0.0         9.907953  509.907959   209.907959   \n",
       "\n",
       "      Size_wc  Laptop_Compartment_wc  Waterproof_wc    Style_wc    Color_wc  \n",
       "0  120.671150             120.671150      20.671146   20.671146  120.671150  \n",
       "1   13.564105             113.564102     113.564102  313.564117  113.564102  \n",
       "2  211.809799             111.809799     111.809799  111.809799  311.809784  \n",
       "3  218.477036              18.477036      18.477036  118.477036  118.477036  \n",
       "4  209.907959               9.907953     109.907951    9.907953    9.907953  "
      ]
     },
     "execution_count": 14,
     "metadata": {},
     "output_type": "execute_result"
    }
   ],
   "source": [
    "test.head()"
   ]
  },
  {
   "cell_type": "code",
   "execution_count": 15,
   "id": "5022c03e",
   "metadata": {
    "execution": {
     "iopub.execute_input": "2025-04-16T05:58:32.766286Z",
     "iopub.status.busy": "2025-04-16T05:58:32.766031Z",
     "iopub.status.idle": "2025-04-16T05:58:45.308461Z",
     "shell.execute_reply": "2025-04-16T05:58:45.307395Z"
    },
    "papermill": {
     "duration": 12.550996,
     "end_time": "2025-04-16T05:58:45.310290",
     "exception": false,
     "start_time": "2025-04-16T05:58:32.759294",
     "status": "completed"
    },
    "tags": []
   },
   "outputs": [],
   "source": [
    "from sklearn.model_selection import KFold, cross_val_score\n",
    "from cuml.metrics import mean_squared_error\n",
    "\n",
    "X = train.copy()\n",
    "y = X.pop('Price')\n",
    "X_test = test.copy()\n",
    "\n",
    "n_folds=8\n",
    "\n",
    "kf = KFold(n_splits=n_folds, shuffle=True, random_state=600)\n",
    "\n",
    "for train_index, valid_index in kf.split(X, y):\n",
    "    X_train, X_valid = X.iloc[train_index], X.iloc[valid_index]\n",
    "    y_train, y_valid = y.iloc[train_index], y.iloc[valid_index]"
   ]
  },
  {
   "cell_type": "markdown",
   "id": "e777aa43",
   "metadata": {
    "papermill": {
     "duration": 0.006061,
     "end_time": "2025-04-16T05:58:45.323163",
     "exception": false,
     "start_time": "2025-04-16T05:58:45.317102",
     "status": "completed"
    },
    "tags": []
   },
   "source": [
    "## Target encoding with quantile"
   ]
  },
  {
   "cell_type": "code",
   "execution_count": 16,
   "id": "a1ee4b16",
   "metadata": {
    "execution": {
     "iopub.execute_input": "2025-04-16T05:58:45.336053Z",
     "iopub.status.busy": "2025-04-16T05:58:45.335482Z",
     "iopub.status.idle": "2025-04-16T05:58:46.634509Z",
     "shell.execute_reply": "2025-04-16T05:58:46.633775Z"
    },
    "papermill": {
     "duration": 1.307304,
     "end_time": "2025-04-16T05:58:46.636286",
     "exception": false,
     "start_time": "2025-04-16T05:58:45.328982",
     "status": "completed"
    },
    "tags": []
   },
   "outputs": [],
   "source": [
    "train_with_target = X_train.copy()\n",
    "train_with_target['Price'] = y_train\n",
    "\n",
    "quants = [5, 10, 25, 40, 50, 60, 75, 95]\n",
    "\n",
    "for q in quants:\n",
    "    result = train_with_target.groupby('Weight_Capacity')['Price'] \\\n",
    "        .quantile(q/100).reset_index().fillna(0.0)\n",
    "    result.rename(columns={'Price': f'quantile_{q}'}, inplace=True)\n",
    "    X_train = X_train.merge(result, on='Weight_Capacity', how='left')\n",
    "    X_valid = X_valid.merge(result, on='Weight_Capacity', how='left')\n",
    "    X_test = X_test.merge(result, on='Weight_Capacity', how='left')"
   ]
  },
  {
   "cell_type": "markdown",
   "id": "770bc9c2",
   "metadata": {
    "papermill": {
     "duration": 0.006003,
     "end_time": "2025-04-16T05:58:46.649034",
     "exception": false,
     "start_time": "2025-04-16T05:58:46.643031",
     "status": "completed"
    },
    "tags": []
   },
   "source": [
    "## Target interaction with count encoding"
   ]
  },
  {
   "cell_type": "code",
   "execution_count": 17,
   "id": "731b3d4c",
   "metadata": {
    "execution": {
     "iopub.execute_input": "2025-04-16T05:58:46.661493Z",
     "iopub.status.busy": "2025-04-16T05:58:46.661263Z",
     "iopub.status.idle": "2025-04-16T05:58:46.867583Z",
     "shell.execute_reply": "2025-04-16T05:58:46.866979Z"
    },
    "papermill": {
     "duration": 0.214457,
     "end_time": "2025-04-16T05:58:46.869079",
     "exception": false,
     "start_time": "2025-04-16T05:58:46.654622",
     "status": "completed"
    },
    "tags": []
   },
   "outputs": [],
   "source": [
    "category_counts = train_with_target['Weight_Capacity'].value_counts().reset_index()\n",
    "category_counts.columns = ['Weight_Capacity', 'category_frequency']\n",
    "\n",
    "category_means = train_with_target.groupby('Weight_Capacity')['Price'].mean().reset_index()\n",
    "category_means.columns = ['Weight_Capacity', 'category_mean_price']\n",
    "\n",
    "category_stats = category_counts.merge(category_means, on='Weight_Capacity', how='left')\n",
    "category_stats['Count_Target_Interaction'] = category_stats['category_frequency'] * category_stats['category_mean_price']\n",
    "\n",
    "X_train = X_train.merge(category_stats, on='Weight_Capacity', how='left')\n",
    "X_valid = X_valid.merge(category_stats, on='Weight_Capacity', how='left')\n",
    "X_test = X_test.merge(category_stats, on='Weight_Capacity', how='left')"
   ]
  },
  {
   "cell_type": "code",
   "execution_count": 18,
   "id": "c2a626ea",
   "metadata": {
    "execution": {
     "iopub.execute_input": "2025-04-16T05:58:46.882733Z",
     "iopub.status.busy": "2025-04-16T05:58:46.882496Z",
     "iopub.status.idle": "2025-04-16T05:58:46.887890Z",
     "shell.execute_reply": "2025-04-16T05:58:46.887297Z"
    },
    "papermill": {
     "duration": 0.01364,
     "end_time": "2025-04-16T05:58:46.889298",
     "exception": false,
     "start_time": "2025-04-16T05:58:46.875658",
     "status": "completed"
    },
    "tags": []
   },
   "outputs": [],
   "source": [
    "# Initializing Prediction Arrays\n",
    "oof_xgb = np.zeros(len(y))\n",
    "oof_cat = np.zeros(len(y))\n",
    "oof_lgm = np.zeros(len(y))\n",
    "test_preds_xgb = np.zeros(len(X_test))\n",
    "test_preds_cat = np.zeros(len(X_test))\n",
    "test_preds_lgm = np.zeros(len(X_test))"
   ]
  },
  {
   "cell_type": "code",
   "execution_count": 19,
   "id": "49f8cd6a",
   "metadata": {
    "execution": {
     "iopub.execute_input": "2025-04-16T05:58:46.902007Z",
     "iopub.status.busy": "2025-04-16T05:58:46.901751Z",
     "iopub.status.idle": "2025-04-16T05:59:12.048430Z",
     "shell.execute_reply": "2025-04-16T05:59:12.047664Z"
    },
    "papermill": {
     "duration": 25.154904,
     "end_time": "2025-04-16T05:59:12.050202",
     "exception": false,
     "start_time": "2025-04-16T05:58:46.895298",
     "status": "completed"
    },
    "tags": []
   },
   "outputs": [],
   "source": [
    "from xgboost import XGBRegressor\n",
    "\n",
    "xgb = XGBRegressor(\n",
    "    n_estimators=5000, \n",
    "    early_stopping_rounds=200, \n",
    "    learning_rate=0.05, \n",
    "    eval_metric='rmse', \n",
    "    max_depth=5, \n",
    "    reg_lambda=8, \n",
    "    device='cuda',\n",
    "    tree_method='gpu_hist',\n",
    "    random_state=600,\n",
    ")\n",
    "xgb.fit(\n",
    "    X_train, y_train,\n",
    "    eval_set=[(X_valid, y_valid)],\n",
    "    verbose=False,\n",
    ")\n",
    "xgb_pred = xgb.predict(X_valid)\n",
    "oof_xgb[valid_index] = xgb_pred\n",
    "test_preds_xgb += xgb.predict(X_test) / n_folds"
   ]
  },
  {
   "cell_type": "code",
   "execution_count": 20,
   "id": "363da50e",
   "metadata": {
    "execution": {
     "iopub.execute_input": "2025-04-16T05:59:12.064269Z",
     "iopub.status.busy": "2025-04-16T05:59:12.064013Z",
     "iopub.status.idle": "2025-04-16T05:59:32.199292Z",
     "shell.execute_reply": "2025-04-16T05:59:32.198153Z"
    },
    "papermill": {
     "duration": 20.144151,
     "end_time": "2025-04-16T05:59:32.201262",
     "exception": false,
     "start_time": "2025-04-16T05:59:12.057111",
     "status": "completed"
    },
    "tags": []
   },
   "outputs": [],
   "source": [
    "from lightgbm import LGBMRegressor\n",
    "\n",
    "lgm = LGBMRegressor(\n",
    "    n_estimators=5000,\n",
    "    learning_rate=0.05,\n",
    "    reg_lambda=1.05,\n",
    "    min_split_gain=3,\n",
    "    random_state=600,\n",
    "    device='gpu',\n",
    "    early_stopping_rounds=50,\n",
    "    verbose=-1,\n",
    ").fit(X_train, y_train, eval_set=[(X_valid, y_valid)])\n",
    "\n",
    "lgm_pred = lgm.predict(X_valid)\n",
    "oof_lgm[valid_index] = lgm_pred\n",
    "test_preds_lgm += lgm.predict(X_test) / n_folds"
   ]
  },
  {
   "cell_type": "code",
   "execution_count": 21,
   "id": "7ea7f74c",
   "metadata": {
    "execution": {
     "iopub.execute_input": "2025-04-16T05:59:32.216405Z",
     "iopub.status.busy": "2025-04-16T05:59:32.216107Z",
     "iopub.status.idle": "2025-04-16T05:59:37.752717Z",
     "shell.execute_reply": "2025-04-16T05:59:37.751343Z"
    },
    "papermill": {
     "duration": 5.54574,
     "end_time": "2025-04-16T05:59:37.755275",
     "exception": false,
     "start_time": "2025-04-16T05:59:32.209535",
     "status": "completed"
    },
    "tags": []
   },
   "outputs": [
    {
     "name": "stderr",
     "output_type": "stream",
     "text": [
      "Warning: less than 75% GPU memory available for training. Free: 10568.125 Total: 15095.0625\n"
     ]
    }
   ],
   "source": [
    "from catboost import CatBoostRegressor\n",
    "from sklearn.model_selection import cross_val_score\n",
    "\n",
    "cat = CatBoostRegressor(\n",
    "    iterations=5000, \n",
    "    learning_rate=0.05,\n",
    "    depth=7, \n",
    "    l2_leaf_reg=6.1, \n",
    "    task_type='GPU',\n",
    "    devices='0',\n",
    "    early_stopping_rounds=50,\n",
    "    verbose=0,\n",
    "    random_state=600,\n",
    "    ).fit(X_train, y_train, eval_set=[(X_valid, y_valid)])\n",
    "\n",
    "cat_pred = cat.predict(X_valid)\n",
    "oof_cat[valid_index] = cat_pred\n",
    "test_preds_cat += cat.predict(X_test) / n_folds"
   ]
  },
  {
   "cell_type": "code",
   "execution_count": 22,
   "id": "03056cb6",
   "metadata": {
    "execution": {
     "iopub.execute_input": "2025-04-16T05:59:37.777629Z",
     "iopub.status.busy": "2025-04-16T05:59:37.777321Z",
     "iopub.status.idle": "2025-04-16T05:59:38.730884Z",
     "shell.execute_reply": "2025-04-16T05:59:38.729717Z"
    },
    "papermill": {
     "duration": 0.965962,
     "end_time": "2025-04-16T05:59:38.732333",
     "exception": false,
     "start_time": "2025-04-16T05:59:37.766371",
     "status": "completed"
    },
    "tags": []
   },
   "outputs": [
    {
     "name": "stdout",
     "output_type": "stream",
     "text": [
      "XGBoost OOF RMSE: 85.49794886989712\n",
      "LGMBoost OOF RMSE: 85.49841197539284\n",
      "CatBoost OOF RMSE: 85.49772378158971\n"
     ]
    }
   ],
   "source": [
    "print(f'XGBoost OOF RMSE: {np.sqrt(mean_squared_error(y, oof_xgb))}')\n",
    "print(f'LGMBoost OOF RMSE: {np.sqrt(mean_squared_error(y, oof_lgm))}')\n",
    "print(f'CatBoost OOF RMSE: {np.sqrt(mean_squared_error(y, oof_cat))}')"
   ]
  },
  {
   "cell_type": "markdown",
   "id": "4aebe7d0",
   "metadata": {
    "papermill": {
     "duration": 0.006508,
     "end_time": "2025-04-16T05:59:38.745201",
     "exception": false,
     "start_time": "2025-04-16T05:59:38.738693",
     "status": "completed"
    },
    "tags": []
   },
   "source": [
    "## Meta Model using Bayesian Ridge"
   ]
  },
  {
   "cell_type": "code",
   "execution_count": 23,
   "id": "a6aaecc9",
   "metadata": {
    "execution": {
     "iopub.execute_input": "2025-04-16T05:59:38.758314Z",
     "iopub.status.busy": "2025-04-16T05:59:38.758064Z",
     "iopub.status.idle": "2025-04-16T05:59:38.796025Z",
     "shell.execute_reply": "2025-04-16T05:59:38.795387Z"
    },
    "papermill": {
     "duration": 0.04591,
     "end_time": "2025-04-16T05:59:38.797319",
     "exception": false,
     "start_time": "2025-04-16T05:59:38.751409",
     "status": "completed"
    },
    "tags": []
   },
   "outputs": [],
   "source": [
    "meta_train = np.column_stack((oof_xgb, oof_lgm, oof_cat))\n",
    "meta_test = np.column_stack((test_preds_xgb, test_preds_lgm, test_preds_cat))"
   ]
  },
  {
   "cell_type": "code",
   "execution_count": 24,
   "id": "b9994242",
   "metadata": {
    "execution": {
     "iopub.execute_input": "2025-04-16T05:59:38.810393Z",
     "iopub.status.busy": "2025-04-16T05:59:38.810185Z",
     "iopub.status.idle": "2025-04-16T05:59:39.567573Z",
     "shell.execute_reply": "2025-04-16T05:59:39.566431Z"
    },
    "papermill": {
     "duration": 0.765444,
     "end_time": "2025-04-16T05:59:39.569080",
     "exception": false,
     "start_time": "2025-04-16T05:59:38.803636",
     "status": "completed"
    },
    "tags": []
   },
   "outputs": [
    {
     "name": "stdout",
     "output_type": "stream",
     "text": [
      "Your submission was successfully saved!\n"
     ]
    }
   ],
   "source": [
    "from sklearn.linear_model import BayesianRidge\n",
    "\n",
    "meta_model = BayesianRidge().fit(meta_train, y)\n",
    "\n",
    "final_preds = meta_model.predict(meta_test)\n",
    "output = pd.DataFrame({'id': test.id, 'price': final_preds})\n",
    "output.to_csv('submission.csv', index=False)\n",
    "print(\"Your submission was successfully saved!\")"
   ]
  }
 ],
 "metadata": {
  "kaggle": {
   "accelerator": "nvidiaTeslaT4",
   "dataSources": [
    {
     "databundleVersionId": 10995111,
     "sourceId": 90274,
     "sourceType": "competition"
    }
   ],
   "dockerImageVersionId": 30918,
   "isGpuEnabled": true,
   "isInternetEnabled": true,
   "language": "python",
   "sourceType": "notebook"
  },
  "kernelspec": {
   "display_name": "Python 3",
   "language": "python",
   "name": "python3"
  },
  "language_info": {
   "codemirror_mode": {
    "name": "ipython",
    "version": 3
   },
   "file_extension": ".py",
   "mimetype": "text/x-python",
   "name": "python",
   "nbconvert_exporter": "python",
   "pygments_lexer": "ipython3",
   "version": "3.10.12"
  },
  "papermill": {
   "default_parameters": {},
   "duration": 120.88823,
   "end_time": "2025-04-16T05:59:42.830834",
   "environment_variables": {},
   "exception": null,
   "input_path": "__notebook__.ipynb",
   "output_path": "__notebook__.ipynb",
   "parameters": {},
   "start_time": "2025-04-16T05:57:41.942604",
   "version": "2.6.0"
  }
 },
 "nbformat": 4,
 "nbformat_minor": 5
}
